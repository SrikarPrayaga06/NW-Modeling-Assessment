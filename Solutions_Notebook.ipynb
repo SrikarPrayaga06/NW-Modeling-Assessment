{
 "cells": [
  {
   "cell_type": "code",
   "execution_count": 81,
   "source": [
    "# imports \n",
    "import pandas as pd\n",
    "import numpy as np\n",
    "import matplotlib.pyplot as plt\n",
    "import seaborn as sns\n",
    "from sklearn.preprocessing import StandardScaler\n",
    "from sklearn.preprocessing import LabelEncoder\n",
    "\n",
    "from sklearn.linear_model import LogisticRegression\n",
    "\n",
    "# import naive bayes\n",
    "from sklearn.naive_bayes import GaussianNB\n",
    "from sklearn.naive_bayes import MultinomialNB\n",
    "from sklearn.naive_bayes import BernoulliNB\n",
    "# import select k best\n",
    "from sklearn.feature_selection import SelectKBest\n",
    "#import train_test_split\n",
    "from sklearn.model_selection import train_test_split\n",
    "\n",
    "#impor f1_score from sklearn.metrics\n",
    "from sklearn.metrics import f1_score\n",
    "from mlxtend.feature_selection import ExhaustiveFeatureSelector as EFS\n",
    "from sklearn.ensemble import RandomForestClassifier\n"
   ],
   "outputs": [],
   "metadata": {}
  },
  {
   "cell_type": "code",
   "execution_count": 34,
   "source": [
    "# read in data\n",
    "train=pd.read_csv('/Users/srikarprayaga/Desktop/NW-Modeling-Assessment/TRAIN_SET_2021.csv')\n",
    "test=pd.read_csv('/Users/srikarprayaga/Desktop/NW-Modeling-Assessment/TEST_SET_2021.csv')"
   ],
   "outputs": [],
   "metadata": {}
  },
  {
   "cell_type": "markdown",
   "source": [
    "## Data Cleaning and Preparation "
   ],
   "metadata": {}
  },
  {
   "cell_type": "code",
   "execution_count": 35,
   "source": [
    "train.head()"
   ],
   "outputs": [
    {
     "output_type": "execute_result",
     "data": {
      "text/html": [
       "<div>\n",
       "<style scoped>\n",
       "    .dataframe tbody tr th:only-of-type {\n",
       "        vertical-align: middle;\n",
       "    }\n",
       "\n",
       "    .dataframe tbody tr th {\n",
       "        vertical-align: top;\n",
       "    }\n",
       "\n",
       "    .dataframe thead th {\n",
       "        text-align: right;\n",
       "    }\n",
       "</style>\n",
       "<table border=\"1\" class=\"dataframe\">\n",
       "  <thead>\n",
       "    <tr style=\"text-align: right;\">\n",
       "      <th></th>\n",
       "      <th>RESTAURANT_SERIAL_NUMBER</th>\n",
       "      <th>RESTAURANT_PERMIT_NUMBER</th>\n",
       "      <th>RESTAURANT_NAME</th>\n",
       "      <th>RESTAURANT_LOCATION</th>\n",
       "      <th>RESTAURANT_CATEGORY</th>\n",
       "      <th>ADDRESS</th>\n",
       "      <th>CITY</th>\n",
       "      <th>STATE</th>\n",
       "      <th>ZIP</th>\n",
       "      <th>CURRENT_DEMERITS</th>\n",
       "      <th>...</th>\n",
       "      <th>RECORD_UPDATED</th>\n",
       "      <th>LAT_LONG_RAW</th>\n",
       "      <th>FIRST_VIOLATION</th>\n",
       "      <th>SECOND_VIOLATION</th>\n",
       "      <th>THIRD_VIOLATION</th>\n",
       "      <th>FIRST_VIOLATION_TYPE</th>\n",
       "      <th>SECOND_VIOLATION_TYPE</th>\n",
       "      <th>THIRD_VIOLATION_TYPE</th>\n",
       "      <th>NUMBER_OF_VIOLATIONS</th>\n",
       "      <th>NEXT_INSPECTION_GRADE_C_OR_BELOW</th>\n",
       "    </tr>\n",
       "  </thead>\n",
       "  <tbody>\n",
       "    <tr>\n",
       "      <th>0</th>\n",
       "      <td>DA1117270</td>\n",
       "      <td>PR0004527</td>\n",
       "      <td>SANDS EXPO HALL B2 CONCESSION</td>\n",
       "      <td>SANDS EXPO &amp; CONVENTION CENTER</td>\n",
       "      <td>Snack Bar</td>\n",
       "      <td>201 E Sands Ave</td>\n",
       "      <td>Las Vegas</td>\n",
       "      <td>Nevada</td>\n",
       "      <td>89169-2617</td>\n",
       "      <td>0.0</td>\n",
       "      <td>...</td>\n",
       "      <td>1/6/2015 16:34</td>\n",
       "      <td>(36.1221442, 115.1652749)</td>\n",
       "      <td>204.0</td>\n",
       "      <td>215.0</td>\n",
       "      <td>302.0</td>\n",
       "      <td>Critical</td>\n",
       "      <td>Major</td>\n",
       "      <td>Imminent Health Hazard</td>\n",
       "      <td>4</td>\n",
       "      <td>0</td>\n",
       "    </tr>\n",
       "    <tr>\n",
       "      <th>1</th>\n",
       "      <td>DA1014948</td>\n",
       "      <td>PR0024221</td>\n",
       "      <td>THAI NOODLES CAFE - RESTAURANT</td>\n",
       "      <td>THAI NOODLES CAFE</td>\n",
       "      <td>Restaurant</td>\n",
       "      <td>6710 W CHEYENNE Ave</td>\n",
       "      <td>Las Vegas</td>\n",
       "      <td>Nevada</td>\n",
       "      <td>89108-4588</td>\n",
       "      <td>3.0</td>\n",
       "      <td>...</td>\n",
       "      <td>2/21/2013 22:26</td>\n",
       "      <td>(36.218691, 115.242913)</td>\n",
       "      <td>214.0</td>\n",
       "      <td>216.0</td>\n",
       "      <td>229.0</td>\n",
       "      <td>Major</td>\n",
       "      <td>Major</td>\n",
       "      <td>Non-Major</td>\n",
       "      <td>5</td>\n",
       "      <td>0</td>\n",
       "    </tr>\n",
       "    <tr>\n",
       "      <th>2</th>\n",
       "      <td>DA0861994</td>\n",
       "      <td>PR0019017</td>\n",
       "      <td>SANTA FE SPORTS BOOK GRILL</td>\n",
       "      <td>Santa Fe Station Hotel &amp; Casino</td>\n",
       "      <td>Restaurant</td>\n",
       "      <td>4949 N Rancho Dr</td>\n",
       "      <td>Las Vegas</td>\n",
       "      <td>Nevada</td>\n",
       "      <td>89130-3505</td>\n",
       "      <td>8.0</td>\n",
       "      <td>...</td>\n",
       "      <td>4/6/2015 9:00</td>\n",
       "      <td>(36.2498922, 115.2441383)</td>\n",
       "      <td>202.0</td>\n",
       "      <td>215.0</td>\n",
       "      <td>233.0</td>\n",
       "      <td>Critical</td>\n",
       "      <td>Major</td>\n",
       "      <td>Non-Major</td>\n",
       "      <td>3</td>\n",
       "      <td>1</td>\n",
       "    </tr>\n",
       "    <tr>\n",
       "      <th>3</th>\n",
       "      <td>DA0896719</td>\n",
       "      <td>PR0001343</td>\n",
       "      <td>Bracken, Walter Elem School Kit</td>\n",
       "      <td>Bracken, Walter Elem School</td>\n",
       "      <td>Elementary School Kitchen</td>\n",
       "      <td>1200 N 27Th St</td>\n",
       "      <td>Las Vegas</td>\n",
       "      <td>Nevada</td>\n",
       "      <td>89101-1517</td>\n",
       "      <td>0.0</td>\n",
       "      <td>...</td>\n",
       "      <td>2/21/2013 22:26</td>\n",
       "      <td>(36.183669, 115.112355)</td>\n",
       "      <td>214.0</td>\n",
       "      <td>230.0</td>\n",
       "      <td>233.0</td>\n",
       "      <td>Major</td>\n",
       "      <td>Non-Major</td>\n",
       "      <td>Non-Major</td>\n",
       "      <td>3</td>\n",
       "      <td>0</td>\n",
       "    </tr>\n",
       "    <tr>\n",
       "      <th>4</th>\n",
       "      <td>DA1031041</td>\n",
       "      <td>PR0006084</td>\n",
       "      <td>HARD ROCK JOINT EAST SVC BAR FL 1</td>\n",
       "      <td>HARD ROCK HOTEL &amp; CASINO</td>\n",
       "      <td>Bar / Tavern</td>\n",
       "      <td>4455 S Paradise Rd</td>\n",
       "      <td>Las Vegas</td>\n",
       "      <td>Nevada</td>\n",
       "      <td>89169-6574</td>\n",
       "      <td>0.0</td>\n",
       "      <td>...</td>\n",
       "      <td>2/21/2013 22:26</td>\n",
       "      <td>(36.1100828, 115.1538714)</td>\n",
       "      <td>214.0</td>\n",
       "      <td>230.0</td>\n",
       "      <td>233.0</td>\n",
       "      <td>Major</td>\n",
       "      <td>Non-Major</td>\n",
       "      <td>Non-Major</td>\n",
       "      <td>NaN</td>\n",
       "      <td>0</td>\n",
       "    </tr>\n",
       "  </tbody>\n",
       "</table>\n",
       "<p>5 rows × 28 columns</p>\n",
       "</div>"
      ],
      "text/plain": [
       "  RESTAURANT_SERIAL_NUMBER RESTAURANT_PERMIT_NUMBER  \\\n",
       "0                DA1117270                PR0004527   \n",
       "1                DA1014948                PR0024221   \n",
       "2                DA0861994                PR0019017   \n",
       "3                DA0896719                PR0001343   \n",
       "4                DA1031041                PR0006084   \n",
       "\n",
       "                     RESTAURANT_NAME              RESTAURANT_LOCATION  \\\n",
       "0      SANDS EXPO HALL B2 CONCESSION   SANDS EXPO & CONVENTION CENTER   \n",
       "1     THAI NOODLES CAFE - RESTAURANT                THAI NOODLES CAFE   \n",
       "2         SANTA FE SPORTS BOOK GRILL  Santa Fe Station Hotel & Casino   \n",
       "3    Bracken, Walter Elem School Kit      Bracken, Walter Elem School   \n",
       "4  HARD ROCK JOINT EAST SVC BAR FL 1         HARD ROCK HOTEL & CASINO   \n",
       "\n",
       "         RESTAURANT_CATEGORY              ADDRESS       CITY   STATE  \\\n",
       "0                  Snack Bar      201 E Sands Ave  Las Vegas  Nevada   \n",
       "1                 Restaurant  6710 W CHEYENNE Ave  Las Vegas  Nevada   \n",
       "2                 Restaurant     4949 N Rancho Dr  Las Vegas  Nevada   \n",
       "3  Elementary School Kitchen       1200 N 27Th St  Las Vegas  Nevada   \n",
       "4               Bar / Tavern   4455 S Paradise Rd  Las Vegas  Nevada   \n",
       "\n",
       "          ZIP  CURRENT_DEMERITS  ...   RECORD_UPDATED  \\\n",
       "0  89169-2617               0.0  ...   1/6/2015 16:34   \n",
       "1  89108-4588               3.0  ...  2/21/2013 22:26   \n",
       "2  89130-3505               8.0  ...    4/6/2015 9:00   \n",
       "3  89101-1517               0.0  ...  2/21/2013 22:26   \n",
       "4  89169-6574               0.0  ...  2/21/2013 22:26   \n",
       "\n",
       "                LAT_LONG_RAW  FIRST_VIOLATION  SECOND_VIOLATION  \\\n",
       "0  (36.1221442, 115.1652749)            204.0             215.0   \n",
       "1    (36.218691, 115.242913)            214.0             216.0   \n",
       "2  (36.2498922, 115.2441383)            202.0             215.0   \n",
       "3    (36.183669, 115.112355)            214.0             230.0   \n",
       "4  (36.1100828, 115.1538714)            214.0             230.0   \n",
       "\n",
       "  THIRD_VIOLATION FIRST_VIOLATION_TYPE SECOND_VIOLATION_TYPE  \\\n",
       "0           302.0             Critical                 Major   \n",
       "1           229.0                Major                 Major   \n",
       "2           233.0             Critical                 Major   \n",
       "3           233.0                Major             Non-Major   \n",
       "4           233.0                Major             Non-Major   \n",
       "\n",
       "     THIRD_VIOLATION_TYPE NUMBER_OF_VIOLATIONS  \\\n",
       "0  Imminent Health Hazard                    4   \n",
       "1               Non-Major                    5   \n",
       "2               Non-Major                    3   \n",
       "3               Non-Major                    3   \n",
       "4               Non-Major                  NaN   \n",
       "\n",
       "  NEXT_INSPECTION_GRADE_C_OR_BELOW  \n",
       "0                                0  \n",
       "1                                0  \n",
       "2                                1  \n",
       "3                                0  \n",
       "4                                0  \n",
       "\n",
       "[5 rows x 28 columns]"
      ]
     },
     "metadata": {},
     "execution_count": 35
    }
   ],
   "metadata": {}
  },
  {
   "cell_type": "code",
   "execution_count": 36,
   "source": [
    "# dimensions of the data before any preprocessing\n",
    "train.shape"
   ],
   "outputs": [
    {
     "output_type": "execute_result",
     "data": {
      "text/plain": [
       "(15673, 28)"
      ]
     },
     "metadata": {},
     "execution_count": 36
    }
   ],
   "metadata": {}
  },
  {
   "cell_type": "code",
   "execution_count": 37,
   "source": [
    "# columns in the data\n",
    "train.columns"
   ],
   "outputs": [
    {
     "output_type": "execute_result",
     "data": {
      "text/plain": [
       "Index(['RESTAURANT_SERIAL_NUMBER', 'RESTAURANT_PERMIT_NUMBER',\n",
       "       'RESTAURANT_NAME', 'RESTAURANT_LOCATION', 'RESTAURANT_CATEGORY',\n",
       "       'ADDRESS', 'CITY', 'STATE', 'ZIP', 'CURRENT_DEMERITS', 'CURRENT_GRADE',\n",
       "       'EMPLOYEE_COUNT', 'MEDIAN_EMPLOYEE_AGE', 'MEDIAN_EMPLOYEE_TENURE',\n",
       "       'INSPECTION_TIME', 'INSPECTION_TYPE', 'INSPECTION_DEMERITS',\n",
       "       'VIOLATIONS_RAW', 'RECORD_UPDATED', 'LAT_LONG_RAW', 'FIRST_VIOLATION',\n",
       "       'SECOND_VIOLATION', 'THIRD_VIOLATION', 'FIRST_VIOLATION_TYPE',\n",
       "       'SECOND_VIOLATION_TYPE', 'THIRD_VIOLATION_TYPE', 'NUMBER_OF_VIOLATIONS',\n",
       "       'NEXT_INSPECTION_GRADE_C_OR_BELOW'],\n",
       "      dtype='object')"
      ]
     },
     "metadata": {},
     "execution_count": 37
    }
   ],
   "metadata": {}
  },
  {
   "cell_type": "code",
   "execution_count": 38,
   "source": [
    "# check number of null values per column\n",
    "train.isnull().sum()"
   ],
   "outputs": [
    {
     "output_type": "execute_result",
     "data": {
      "text/plain": [
       "RESTAURANT_SERIAL_NUMBER              0\n",
       "RESTAURANT_PERMIT_NUMBER              0\n",
       "RESTAURANT_NAME                      65\n",
       "RESTAURANT_LOCATION                 200\n",
       "RESTAURANT_CATEGORY                 130\n",
       "ADDRESS                              70\n",
       "CITY                                236\n",
       "STATE                               209\n",
       "ZIP                                  59\n",
       "CURRENT_DEMERITS                    216\n",
       "CURRENT_GRADE                       308\n",
       "EMPLOYEE_COUNT                       93\n",
       "MEDIAN_EMPLOYEE_AGE                  34\n",
       "MEDIAN_EMPLOYEE_TENURE              297\n",
       "INSPECTION_TIME                     183\n",
       "INSPECTION_TYPE                     221\n",
       "INSPECTION_DEMERITS                 254\n",
       "VIOLATIONS_RAW                      165\n",
       "RECORD_UPDATED                      119\n",
       "LAT_LONG_RAW                         15\n",
       "FIRST_VIOLATION                     212\n",
       "SECOND_VIOLATION                     85\n",
       "THIRD_VIOLATION                      61\n",
       "FIRST_VIOLATION_TYPE                146\n",
       "SECOND_VIOLATION_TYPE               267\n",
       "THIRD_VIOLATION_TYPE                173\n",
       "NUMBER_OF_VIOLATIONS                169\n",
       "NEXT_INSPECTION_GRADE_C_OR_BELOW     40\n",
       "dtype: int64"
      ]
     },
     "metadata": {},
     "execution_count": 38
    }
   ],
   "metadata": {}
  },
  {
   "cell_type": "code",
   "execution_count": 39,
   "source": [
    "# perentage of null values per column\n",
    "train.isnull().sum()/train.shape[0]"
   ],
   "outputs": [
    {
     "output_type": "execute_result",
     "data": {
      "text/plain": [
       "RESTAURANT_SERIAL_NUMBER            0.000000\n",
       "RESTAURANT_PERMIT_NUMBER            0.000000\n",
       "RESTAURANT_NAME                     0.004147\n",
       "RESTAURANT_LOCATION                 0.012761\n",
       "RESTAURANT_CATEGORY                 0.008295\n",
       "ADDRESS                             0.004466\n",
       "CITY                                0.015058\n",
       "STATE                               0.013335\n",
       "ZIP                                 0.003764\n",
       "CURRENT_DEMERITS                    0.013782\n",
       "CURRENT_GRADE                       0.019652\n",
       "EMPLOYEE_COUNT                      0.005934\n",
       "MEDIAN_EMPLOYEE_AGE                 0.002169\n",
       "MEDIAN_EMPLOYEE_TENURE              0.018950\n",
       "INSPECTION_TIME                     0.011676\n",
       "INSPECTION_TYPE                     0.014101\n",
       "INSPECTION_DEMERITS                 0.016206\n",
       "VIOLATIONS_RAW                      0.010528\n",
       "RECORD_UPDATED                      0.007593\n",
       "LAT_LONG_RAW                        0.000957\n",
       "FIRST_VIOLATION                     0.013526\n",
       "SECOND_VIOLATION                    0.005423\n",
       "THIRD_VIOLATION                     0.003892\n",
       "FIRST_VIOLATION_TYPE                0.009315\n",
       "SECOND_VIOLATION_TYPE               0.017036\n",
       "THIRD_VIOLATION_TYPE                0.011038\n",
       "NUMBER_OF_VIOLATIONS                0.010783\n",
       "NEXT_INSPECTION_GRADE_C_OR_BELOW    0.002552\n",
       "dtype: float64"
      ]
     },
     "metadata": {},
     "execution_count": 39
    }
   ],
   "metadata": {}
  },
  {
   "cell_type": "code",
   "execution_count": 40,
   "source": [
    "# drop all null value due to small percentage of overall data \n",
    "train.dropna(inplace=True)"
   ],
   "outputs": [],
   "metadata": {}
  },
  {
   "cell_type": "code",
   "execution_count": 41,
   "source": [
    "# gets the number of null values per column (after dropping null values)\n",
    "train.isnull().sum()"
   ],
   "outputs": [
    {
     "output_type": "execute_result",
     "data": {
      "text/plain": [
       "RESTAURANT_SERIAL_NUMBER            0\n",
       "RESTAURANT_PERMIT_NUMBER            0\n",
       "RESTAURANT_NAME                     0\n",
       "RESTAURANT_LOCATION                 0\n",
       "RESTAURANT_CATEGORY                 0\n",
       "ADDRESS                             0\n",
       "CITY                                0\n",
       "STATE                               0\n",
       "ZIP                                 0\n",
       "CURRENT_DEMERITS                    0\n",
       "CURRENT_GRADE                       0\n",
       "EMPLOYEE_COUNT                      0\n",
       "MEDIAN_EMPLOYEE_AGE                 0\n",
       "MEDIAN_EMPLOYEE_TENURE              0\n",
       "INSPECTION_TIME                     0\n",
       "INSPECTION_TYPE                     0\n",
       "INSPECTION_DEMERITS                 0\n",
       "VIOLATIONS_RAW                      0\n",
       "RECORD_UPDATED                      0\n",
       "LAT_LONG_RAW                        0\n",
       "FIRST_VIOLATION                     0\n",
       "SECOND_VIOLATION                    0\n",
       "THIRD_VIOLATION                     0\n",
       "FIRST_VIOLATION_TYPE                0\n",
       "SECOND_VIOLATION_TYPE               0\n",
       "THIRD_VIOLATION_TYPE                0\n",
       "NUMBER_OF_VIOLATIONS                0\n",
       "NEXT_INSPECTION_GRADE_C_OR_BELOW    0\n",
       "dtype: int64"
      ]
     },
     "metadata": {},
     "execution_count": 41
    }
   ],
   "metadata": {}
  },
  {
   "cell_type": "code",
   "execution_count": 42,
   "source": [
    "# shape of the data after dropping null values\n",
    "train.shape"
   ],
   "outputs": [
    {
     "output_type": "execute_result",
     "data": {
      "text/plain": [
       "(12083, 28)"
      ]
     },
     "metadata": {},
     "execution_count": 42
    }
   ],
   "metadata": {}
  },
  {
   "cell_type": "code",
   "execution_count": 43,
   "source": [
    "# datatypes of all columns before transformation \n",
    "train.dtypes"
   ],
   "outputs": [
    {
     "output_type": "execute_result",
     "data": {
      "text/plain": [
       "RESTAURANT_SERIAL_NUMBER             object\n",
       "RESTAURANT_PERMIT_NUMBER             object\n",
       "RESTAURANT_NAME                      object\n",
       "RESTAURANT_LOCATION                  object\n",
       "RESTAURANT_CATEGORY                  object\n",
       "ADDRESS                              object\n",
       "CITY                                 object\n",
       "STATE                                object\n",
       "ZIP                                  object\n",
       "CURRENT_DEMERITS                    float64\n",
       "CURRENT_GRADE                        object\n",
       "EMPLOYEE_COUNT                      float64\n",
       "MEDIAN_EMPLOYEE_AGE                 float64\n",
       "MEDIAN_EMPLOYEE_TENURE              float64\n",
       "INSPECTION_TIME                      object\n",
       "INSPECTION_TYPE                      object\n",
       "INSPECTION_DEMERITS                  object\n",
       "VIOLATIONS_RAW                       object\n",
       "RECORD_UPDATED                       object\n",
       "LAT_LONG_RAW                         object\n",
       "FIRST_VIOLATION                     float64\n",
       "SECOND_VIOLATION                    float64\n",
       "THIRD_VIOLATION                     float64\n",
       "FIRST_VIOLATION_TYPE                 object\n",
       "SECOND_VIOLATION_TYPE                object\n",
       "THIRD_VIOLATION_TYPE                 object\n",
       "NUMBER_OF_VIOLATIONS                 object\n",
       "NEXT_INSPECTION_GRADE_C_OR_BELOW     object\n",
       "dtype: object"
      ]
     },
     "metadata": {},
     "execution_count": 43
    }
   ],
   "metadata": {}
  },
  {
   "cell_type": "code",
   "execution_count": 44,
   "source": [
    "# assigning correct data types to columns  \n",
    "train[\"RESTAURANT_SERIAL_NUMBER\"]=train[\"RESTAURANT_SERIAL_NUMBER\"].astype('str')\n",
    "train['RESTAURANT_NAME'] = train['RESTAURANT_NAME'].astype('str')\n",
    "train['RESTAURANT_LOCATION']=train['RESTAURANT_LOCATION'].astype('str')\n",
    "train['RESTAURANT_CATEGORY']=train['RESTAURANT_CATEGORY'].astype('category')\n",
    "train[\"ADDRESS\"]=train[\"ADDRESS\"].astype('str')\n",
    "train['CITY']=train['CITY'].astype('str')\n",
    "train[\"STATE\"]=train[\"STATE\"].astype('str')\n",
    "train[\"ZIP\"]=train[\"ZIP\"].astype('str')\n",
    "train[\"CURRENT_GRADE\"]=train[\"CURRENT_GRADE\"].astype('str')\n",
    "train[\"EMPLOYEE_COUNT\"]=train[\"EMPLOYEE_COUNT\"].astype('int64')\n",
    "train[\"MEDIAN_EMPLOYEE_AGE\"]=train[\"MEDIAN_EMPLOYEE_AGE\"].astype('int64')\n",
    "\n",
    "# convert every / in INSPECTION_TIME to - and convert column to datetime\n",
    "train['INSPECTION_TIME'] = train['INSPECTION_TIME'].astype('str')\n",
    "train['INSPECTION_TIME'] = train['INSPECTION_TIME'].str.replace('/', '-')\n",
    "train['INSPECTION_TIME'] = pd.to_datetime(train['INSPECTION_TIME'],errors='coerce')\n",
    "\n",
    "# remove row in train with 'Routine Inspection' in INSPECTION_DEMERITS\n",
    "train = train[train['INSPECTION_DEMERITS'] != 'Routine Inspection']\n",
    "train['INSPECTION_DEMERITS'] = train['INSPECTION_DEMERITS'].astype('int64')\n",
    "\n",
    "train['RECORD_UPDATED'] = train['RECORD_UPDATED'].astype('str')\n",
    "train['RECORD_UPDATED'] = train['RECORD_UPDATED'].str.replace('/', '-')\n",
    "train['RECORD_UPDATED'] = pd.to_datetime(train['RECORD_UPDATED'],errors='coerce')\n",
    "train['RECORD_UPDATED'] = pd.to_datetime(train['RECORD_UPDATED'])\n",
    "\n",
    "\n",
    "train['FIRST_VIOLATION']=train['FIRST_VIOLATION_TYPE'].astype('str')\n",
    "train['SECOND_VIOLATION']=train['SECOND_VIOLATION_TYPE'].astype('str')\n",
    "train['THIRD_VIOLATION']=train['THIRD_VIOLATION_TYPE'].astype('str')\n",
    "\n",
    "train['FIRST_VIOLATION_TYPE']=train['FIRST_VIOLATION_TYPE'].astype('str')\n",
    "train['SECOND_VIOLATION_TYPE']=train['SECOND_VIOLATION_TYPE'].astype('str')\n",
    "train['THIRD_VIOLATION_TYPE']=train['THIRD_VIOLATION_TYPE'].astype('str')\n",
    "train['THIRD_VIOLATION_TYPE']=train['THIRD_VIOLATION_TYPE'].astype('str')\n",
    "\n",
    "train.drop(train[train['NUMBER_OF_VIOLATIONS'] == 'Nevada'].index, inplace=True)\n",
    "train['NUMBER_OF_VIOLATIONS']=train['NUMBER_OF_VIOLATIONS'].astype('int64')\n",
    "\n",
    "train.drop(train[train['NEXT_INSPECTION_GRADE_C_OR_BELOW'] == '-3'].index, inplace=True)\n",
    "train.drop(train[train['NEXT_INSPECTION_GRADE_C_OR_BELOW'] == 'Goat'].index, inplace=True)\n",
    "train['NEXT_INSPECTION_GRADE_C_OR_BELOW'] = train['NEXT_INSPECTION_GRADE_C_OR_BELOW'].astype('int64')\n",
    "\n"
   ],
   "outputs": [],
   "metadata": {}
  },
  {
   "cell_type": "code",
   "execution_count": 45,
   "source": [
    "# same transformation for test data\n",
    "test[\"RESTAURANT_SERIAL_NUMBER\"]=test[\"RESTAURANT_SERIAL_NUMBER\"].astype('str')\n",
    "test['RESTAURANT_NAME'] = test['RESTAURANT_NAME'].astype('str')\n",
    "test['RESTAURANT_LOCATION']=test['RESTAURANT_LOCATION'].astype('str')\n",
    "test['RESTAURANT_CATEGORY']=test['RESTAURANT_CATEGORY'].astype('category')\n",
    "test[\"ADDRESS\"]=test[\"ADDRESS\"].astype('str')\n",
    "test['CITY']=test['CITY'].astype('str')\n",
    "test[\"STATE\"]=test[\"STATE\"].astype('str')\n",
    "test[\"ZIP\"]=test[\"ZIP\"].astype('str')\n",
    "test[\"CURRENT_GRADE\"]=test[\"CURRENT_GRADE\"].astype('category')\n",
    "test[\"EMPLOYEE_COUNT\"]=test[\"EMPLOYEE_COUNT\"].astype('int64')\n",
    "test[\"MEDIAN_EMPLOYEE_AGE\"]=test[\"MEDIAN_EMPLOYEE_AGE\"].astype('int64')\n",
    "# replace train with test\n",
    "test['INSPECTION_TIME'] = test['INSPECTION_TIME'].astype('str')\n",
    "test['INSPECTION_TIME'] = test['INSPECTION_TIME'].str.replace('/', '-')\n",
    "test['INSPECTION_TIME'] = pd.to_datetime(train['INSPECTION_TIME'],errors='coerce')\n",
    "test = test[test['INSPECTION_DEMERITS'] != 'Routine Inspection']\n",
    "test['INSPECTION_DEMERITS'] = test['INSPECTION_DEMERITS'].astype('int64')\n",
    "\n",
    "test['RECORD_UPDATED'] = test['RECORD_UPDATED'].astype('str')\n",
    "test['RECORD_UPDATED'] = test['RECORD_UPDATED'].str.replace('/', '-')\n",
    "test['RECORD_UPDATED'] = pd.to_datetime(train['RECORD_UPDATED'],errors='coerce')\n",
    "test['RECORD_UPDATED'] = pd.to_datetime(train['RECORD_UPDATED'])\n",
    "\n",
    "test['FIRST_VIOLATION']=test['FIRST_VIOLATION_TYPE'].astype('str')\n",
    "test['SECOND_VIOLATION']=test['SECOND_VIOLATION_TYPE'].astype('str')\n",
    "test['THIRD_VIOLATION']=test['THIRD_VIOLATION_TYPE'].astype('str')\n",
    "\n",
    "test['FIRST_VIOLATION_TYPE']=test['FIRST_VIOLATION_TYPE'].astype('str')\n",
    "test['SECOND_VIOLATION_TYPE']=test['SECOND_VIOLATION_TYPE'].astype('str')\n",
    "test['THIRD_VIOLATION_TYPE']=test['THIRD_VIOLATION_TYPE'].astype('str')\n",
    "test['THIRD_VIOLATION_TYPE']=test['THIRD_VIOLATION_TYPE'].astype('str')\n",
    "\n",
    "test.drop(test[test['NUMBER_OF_VIOLATIONS'] == 'Nevada'].index, inplace=True)\n",
    "test['NUMBER_OF_VIOLATIONS']=test['NUMBER_OF_VIOLATIONS'].astype('int64')\n",
    "\n",
    "\n"
   ],
   "outputs": [],
   "metadata": {}
  },
  {
   "cell_type": "code",
   "execution_count": 46,
   "source": [
    "# datatypes after transformations \n",
    "train.dtypes"
   ],
   "outputs": [
    {
     "output_type": "execute_result",
     "data": {
      "text/plain": [
       "RESTAURANT_SERIAL_NUMBER                    object\n",
       "RESTAURANT_PERMIT_NUMBER                    object\n",
       "RESTAURANT_NAME                             object\n",
       "RESTAURANT_LOCATION                         object\n",
       "RESTAURANT_CATEGORY                       category\n",
       "ADDRESS                                     object\n",
       "CITY                                        object\n",
       "STATE                                       object\n",
       "ZIP                                         object\n",
       "CURRENT_DEMERITS                           float64\n",
       "CURRENT_GRADE                               object\n",
       "EMPLOYEE_COUNT                               int64\n",
       "MEDIAN_EMPLOYEE_AGE                          int64\n",
       "MEDIAN_EMPLOYEE_TENURE                     float64\n",
       "INSPECTION_TIME                     datetime64[ns]\n",
       "INSPECTION_TYPE                             object\n",
       "INSPECTION_DEMERITS                          int64\n",
       "VIOLATIONS_RAW                              object\n",
       "RECORD_UPDATED                      datetime64[ns]\n",
       "LAT_LONG_RAW                                object\n",
       "FIRST_VIOLATION                             object\n",
       "SECOND_VIOLATION                            object\n",
       "THIRD_VIOLATION                             object\n",
       "FIRST_VIOLATION_TYPE                        object\n",
       "SECOND_VIOLATION_TYPE                       object\n",
       "THIRD_VIOLATION_TYPE                        object\n",
       "NUMBER_OF_VIOLATIONS                         int64\n",
       "NEXT_INSPECTION_GRADE_C_OR_BELOW             int64\n",
       "dtype: object"
      ]
     },
     "metadata": {},
     "execution_count": 46
    }
   ],
   "metadata": {}
  },
  {
   "cell_type": "code",
   "execution_count": 47,
   "source": [
    "# remove outliers from each column \n",
    "\n",
    "# remove whole row in train where value in STATE is 'SK', Star Trek', 'TT','Nevada?'\n",
    "train = train[train['STATE'] != 'SK']\n",
    "train = train[train['STATE'] != 'Star Trek']\n",
    "train = train[train['STATE'] != 'TT']\n",
    "train = train[train['STATE'] != 'Nevada?']\n",
    "# replace NeVaDa with Nevada in train\n",
    "train['STATE'] = train['STATE'].replace('NeVaDa', 'Nevada')\n",
    "\n",
    "# remove whole row in train where value in CURRENT_GRADE is 'X', 'O','N', 'VPN', 'I', 'EIEIO','A+','7','.\\<><1@#&|','U','K'\n",
    "train = train[train['CURRENT_GRADE'] != 'X']\n",
    "train = train[train['CURRENT_GRADE'] != 'O']\n",
    "train = train[train['CURRENT_GRADE'] != 'N']\n",
    "train = train[train['CURRENT_GRADE'] != 'VPN']\n",
    "train = train[train['CURRENT_GRADE'] != 'I']\n",
    "train = train[train['CURRENT_GRADE'] != 'EIEIO']\n",
    "train = train[train['CURRENT_GRADE'] != 'A+']\n",
    "train = train[train['CURRENT_GRADE'] != '7']\n",
    "train = train[train['CURRENT_GRADE'] != '.\\<><1@#&|']\n",
    "train = train[train['CURRENT_GRADE'] != 'U']\n",
    "train = train[train['CURRENT_GRADE'] != 'K']\n",
    "\n",
    "# remove rows with 111447 and -7 from EMPLOYEE_COUNT in train\n",
    "train = train[train['EMPLOYEE_COUNT'] != 111447]\n",
    "train = train[train['EMPLOYEE_COUNT'] != -7]\n",
    "\n",
    "# remove outlier ages in MEDIAN_EMPLOYEE_AGE using 3 sigma rule\n",
    "# calculate mean and standard deviation\n",
    "mean = train['MEDIAN_EMPLOYEE_AGE'].mean()\n",
    "std = train['MEDIAN_EMPLOYEE_AGE'].std()\n",
    "# calculate 3 sigma rule\n",
    "threshold = mean + (3 * std)\n",
    "# remove rows where MEDIAN_EMPLOYEE_AGE is greater than threshold\n",
    "train = train[train['MEDIAN_EMPLOYEE_AGE'] <= threshold]\n",
    "\n",
    "# remove the 7 and -7 from NEXT_INSPECTION_GRADE_C_OR_BELOW in train\n",
    "train = train[train['NEXT_INSPECTION_GRADE_C_OR_BELOW'] != 7]\n",
    "train = train[train['NEXT_INSPECTION_GRADE_C_OR_BELOW'] != -7]\n",
    "\n",
    "\n",
    "\n",
    "\n",
    "\n"
   ],
   "outputs": [],
   "metadata": {}
  },
  {
   "cell_type": "code",
   "execution_count": 48,
   "source": [
    "# apply the same transformation to test data\n",
    "\n",
    "# remove whole row in train where value in STATE is 'SK', Star Trek', 'TT','Nevada?'\n",
    "test = test[test['STATE'] != 'SK']\n",
    "test = test[test['STATE'] != 'Star Trek']\n",
    "test = test[test['STATE'] != 'TT']\n",
    "test = test[test['STATE'] != 'Nevada?']\n",
    "# replace NeVaDa with Nevada in train\n",
    "train['STATE'] = train['STATE'].replace('NeVaDa', 'Nevada')\n",
    "\n",
    "# remove whole row in train where value in CURRENT_GRADE is 'X', 'O','N', 'VPN', 'I', 'EIEIO','A+','7','.\\<><1@#&|','U','K'\n",
    "test = test[test['CURRENT_GRADE'] != 'X']\n",
    "test = test[test['CURRENT_GRADE'] != 'O']\n",
    "test = test[test['CURRENT_GRADE'] != 'N']\n",
    "test = test[test['CURRENT_GRADE'] != 'VPN']\n",
    "test = test[test['CURRENT_GRADE'] != 'I']\n",
    "test = test[test['CURRENT_GRADE'] != 'EIEIO']\n",
    "test = test[test['CURRENT_GRADE'] != 'A+']\n",
    "test = test[test['CURRENT_GRADE'] != '7']\n",
    "test = test[test['CURRENT_GRADE'] != '.\\<><1@#&|']\n",
    "test = test[test['CURRENT_GRADE'] != 'U']\n",
    "test = test[test['CURRENT_GRADE'] != 'K']\n",
    "\n",
    "# remove rows with 111447 and -7 from EMPLOYEE_COUNT in train\n",
    "test = test[test['EMPLOYEE_COUNT'] != 111447]\n",
    "test = test[test['EMPLOYEE_COUNT'] != -7]\n",
    "\n",
    "# remove outlier ages in MEDIAN_EMPLOYEE_AGE using 3 sigma rule\n",
    "# calculate mean and standard deviation\n",
    "mean = test['MEDIAN_EMPLOYEE_AGE'].mean()\n",
    "std = test['MEDIAN_EMPLOYEE_AGE'].std()\n",
    "# calculate 3 sigma rule\n",
    "threshold = mean + (3 * std)\n",
    "# remove rows where MEDIAN_EMPLOYEE_AGE is greater than threshold\n",
    "test = test[test['MEDIAN_EMPLOYEE_AGE'] <= threshold]\n",
    "\n",
    "\n",
    "\n"
   ],
   "outputs": [],
   "metadata": {}
  },
  {
   "cell_type": "code",
   "execution_count": 49,
   "source": [
    "# shape of train after prepreocessing\n",
    "train.shape"
   ],
   "outputs": [
    {
     "output_type": "execute_result",
     "data": {
      "text/plain": [
       "(11948, 28)"
      ]
     },
     "metadata": {},
     "execution_count": 49
    }
   ],
   "metadata": {}
  },
  {
   "cell_type": "markdown",
   "source": [
    "## Exploratory Analysis"
   ],
   "metadata": {}
  },
  {
   "cell_type": "code",
   "execution_count": 50,
   "source": [
    "train.head()"
   ],
   "outputs": [
    {
     "output_type": "execute_result",
     "data": {
      "text/html": [
       "<div>\n",
       "<style scoped>\n",
       "    .dataframe tbody tr th:only-of-type {\n",
       "        vertical-align: middle;\n",
       "    }\n",
       "\n",
       "    .dataframe tbody tr th {\n",
       "        vertical-align: top;\n",
       "    }\n",
       "\n",
       "    .dataframe thead th {\n",
       "        text-align: right;\n",
       "    }\n",
       "</style>\n",
       "<table border=\"1\" class=\"dataframe\">\n",
       "  <thead>\n",
       "    <tr style=\"text-align: right;\">\n",
       "      <th></th>\n",
       "      <th>RESTAURANT_SERIAL_NUMBER</th>\n",
       "      <th>RESTAURANT_PERMIT_NUMBER</th>\n",
       "      <th>RESTAURANT_NAME</th>\n",
       "      <th>RESTAURANT_LOCATION</th>\n",
       "      <th>RESTAURANT_CATEGORY</th>\n",
       "      <th>ADDRESS</th>\n",
       "      <th>CITY</th>\n",
       "      <th>STATE</th>\n",
       "      <th>ZIP</th>\n",
       "      <th>CURRENT_DEMERITS</th>\n",
       "      <th>...</th>\n",
       "      <th>RECORD_UPDATED</th>\n",
       "      <th>LAT_LONG_RAW</th>\n",
       "      <th>FIRST_VIOLATION</th>\n",
       "      <th>SECOND_VIOLATION</th>\n",
       "      <th>THIRD_VIOLATION</th>\n",
       "      <th>FIRST_VIOLATION_TYPE</th>\n",
       "      <th>SECOND_VIOLATION_TYPE</th>\n",
       "      <th>THIRD_VIOLATION_TYPE</th>\n",
       "      <th>NUMBER_OF_VIOLATIONS</th>\n",
       "      <th>NEXT_INSPECTION_GRADE_C_OR_BELOW</th>\n",
       "    </tr>\n",
       "  </thead>\n",
       "  <tbody>\n",
       "    <tr>\n",
       "      <th>0</th>\n",
       "      <td>DA1117270</td>\n",
       "      <td>PR0004527</td>\n",
       "      <td>SANDS EXPO HALL B2 CONCESSION</td>\n",
       "      <td>SANDS EXPO &amp; CONVENTION CENTER</td>\n",
       "      <td>Snack Bar</td>\n",
       "      <td>201 E Sands Ave</td>\n",
       "      <td>Las Vegas</td>\n",
       "      <td>Nevada</td>\n",
       "      <td>89169-2617</td>\n",
       "      <td>0.0</td>\n",
       "      <td>...</td>\n",
       "      <td>2015-01-06 16:34:00</td>\n",
       "      <td>(36.1221442, 115.1652749)</td>\n",
       "      <td>Critical</td>\n",
       "      <td>Major</td>\n",
       "      <td>Imminent Health Hazard</td>\n",
       "      <td>Critical</td>\n",
       "      <td>Major</td>\n",
       "      <td>Imminent Health Hazard</td>\n",
       "      <td>4</td>\n",
       "      <td>0</td>\n",
       "    </tr>\n",
       "    <tr>\n",
       "      <th>1</th>\n",
       "      <td>DA1014948</td>\n",
       "      <td>PR0024221</td>\n",
       "      <td>THAI NOODLES CAFE - RESTAURANT</td>\n",
       "      <td>THAI NOODLES CAFE</td>\n",
       "      <td>Restaurant</td>\n",
       "      <td>6710 W CHEYENNE Ave</td>\n",
       "      <td>Las Vegas</td>\n",
       "      <td>Nevada</td>\n",
       "      <td>89108-4588</td>\n",
       "      <td>3.0</td>\n",
       "      <td>...</td>\n",
       "      <td>2013-02-21 22:26:00</td>\n",
       "      <td>(36.218691, 115.242913)</td>\n",
       "      <td>Major</td>\n",
       "      <td>Major</td>\n",
       "      <td>Non-Major</td>\n",
       "      <td>Major</td>\n",
       "      <td>Major</td>\n",
       "      <td>Non-Major</td>\n",
       "      <td>5</td>\n",
       "      <td>0</td>\n",
       "    </tr>\n",
       "    <tr>\n",
       "      <th>2</th>\n",
       "      <td>DA0861994</td>\n",
       "      <td>PR0019017</td>\n",
       "      <td>SANTA FE SPORTS BOOK GRILL</td>\n",
       "      <td>Santa Fe Station Hotel &amp; Casino</td>\n",
       "      <td>Restaurant</td>\n",
       "      <td>4949 N Rancho Dr</td>\n",
       "      <td>Las Vegas</td>\n",
       "      <td>Nevada</td>\n",
       "      <td>89130-3505</td>\n",
       "      <td>8.0</td>\n",
       "      <td>...</td>\n",
       "      <td>2015-04-06 09:00:00</td>\n",
       "      <td>(36.2498922, 115.2441383)</td>\n",
       "      <td>Critical</td>\n",
       "      <td>Major</td>\n",
       "      <td>Non-Major</td>\n",
       "      <td>Critical</td>\n",
       "      <td>Major</td>\n",
       "      <td>Non-Major</td>\n",
       "      <td>3</td>\n",
       "      <td>1</td>\n",
       "    </tr>\n",
       "    <tr>\n",
       "      <th>3</th>\n",
       "      <td>DA0896719</td>\n",
       "      <td>PR0001343</td>\n",
       "      <td>Bracken, Walter Elem School Kit</td>\n",
       "      <td>Bracken, Walter Elem School</td>\n",
       "      <td>Elementary School Kitchen</td>\n",
       "      <td>1200 N 27Th St</td>\n",
       "      <td>Las Vegas</td>\n",
       "      <td>Nevada</td>\n",
       "      <td>89101-1517</td>\n",
       "      <td>0.0</td>\n",
       "      <td>...</td>\n",
       "      <td>2013-02-21 22:26:00</td>\n",
       "      <td>(36.183669, 115.112355)</td>\n",
       "      <td>Major</td>\n",
       "      <td>Non-Major</td>\n",
       "      <td>Non-Major</td>\n",
       "      <td>Major</td>\n",
       "      <td>Non-Major</td>\n",
       "      <td>Non-Major</td>\n",
       "      <td>3</td>\n",
       "      <td>0</td>\n",
       "    </tr>\n",
       "    <tr>\n",
       "      <th>5</th>\n",
       "      <td>DA1567561</td>\n",
       "      <td>PR0006724</td>\n",
       "      <td>Hotel Brendans Irish Pub</td>\n",
       "      <td>Orleans Hotel and Casino</td>\n",
       "      <td>Bar / Tavern</td>\n",
       "      <td>4500 W Tropicana Ave</td>\n",
       "      <td>Las Vegas</td>\n",
       "      <td>Nevada</td>\n",
       "      <td>89103-5420</td>\n",
       "      <td>3.0</td>\n",
       "      <td>...</td>\n",
       "      <td>2015-09-11 16:59:00</td>\n",
       "      <td>(36.1027192, 115.201984)</td>\n",
       "      <td>Critical</td>\n",
       "      <td>Major</td>\n",
       "      <td>Major</td>\n",
       "      <td>Critical</td>\n",
       "      <td>Major</td>\n",
       "      <td>Major</td>\n",
       "      <td>7</td>\n",
       "      <td>0</td>\n",
       "    </tr>\n",
       "  </tbody>\n",
       "</table>\n",
       "<p>5 rows × 28 columns</p>\n",
       "</div>"
      ],
      "text/plain": [
       "  RESTAURANT_SERIAL_NUMBER RESTAURANT_PERMIT_NUMBER  \\\n",
       "0                DA1117270                PR0004527   \n",
       "1                DA1014948                PR0024221   \n",
       "2                DA0861994                PR0019017   \n",
       "3                DA0896719                PR0001343   \n",
       "5                DA1567561                PR0006724   \n",
       "\n",
       "                   RESTAURANT_NAME              RESTAURANT_LOCATION  \\\n",
       "0    SANDS EXPO HALL B2 CONCESSION   SANDS EXPO & CONVENTION CENTER   \n",
       "1   THAI NOODLES CAFE - RESTAURANT                THAI NOODLES CAFE   \n",
       "2       SANTA FE SPORTS BOOK GRILL  Santa Fe Station Hotel & Casino   \n",
       "3  Bracken, Walter Elem School Kit      Bracken, Walter Elem School   \n",
       "5         Hotel Brendans Irish Pub         Orleans Hotel and Casino   \n",
       "\n",
       "         RESTAURANT_CATEGORY               ADDRESS       CITY   STATE  \\\n",
       "0                  Snack Bar       201 E Sands Ave  Las Vegas  Nevada   \n",
       "1                 Restaurant   6710 W CHEYENNE Ave  Las Vegas  Nevada   \n",
       "2                 Restaurant      4949 N Rancho Dr  Las Vegas  Nevada   \n",
       "3  Elementary School Kitchen        1200 N 27Th St  Las Vegas  Nevada   \n",
       "5               Bar / Tavern  4500 W Tropicana Ave  Las Vegas  Nevada   \n",
       "\n",
       "          ZIP  CURRENT_DEMERITS  ...      RECORD_UPDATED  \\\n",
       "0  89169-2617               0.0  ... 2015-01-06 16:34:00   \n",
       "1  89108-4588               3.0  ... 2013-02-21 22:26:00   \n",
       "2  89130-3505               8.0  ... 2015-04-06 09:00:00   \n",
       "3  89101-1517               0.0  ... 2013-02-21 22:26:00   \n",
       "5  89103-5420               3.0  ... 2015-09-11 16:59:00   \n",
       "\n",
       "                LAT_LONG_RAW  FIRST_VIOLATION  SECOND_VIOLATION  \\\n",
       "0  (36.1221442, 115.1652749)         Critical             Major   \n",
       "1    (36.218691, 115.242913)            Major             Major   \n",
       "2  (36.2498922, 115.2441383)         Critical             Major   \n",
       "3    (36.183669, 115.112355)            Major         Non-Major   \n",
       "5   (36.1027192, 115.201984)         Critical             Major   \n",
       "\n",
       "          THIRD_VIOLATION FIRST_VIOLATION_TYPE  SECOND_VIOLATION_TYPE  \\\n",
       "0  Imminent Health Hazard             Critical                  Major   \n",
       "1               Non-Major                Major                  Major   \n",
       "2               Non-Major             Critical                  Major   \n",
       "3               Non-Major                Major              Non-Major   \n",
       "5                   Major             Critical                  Major   \n",
       "\n",
       "     THIRD_VIOLATION_TYPE NUMBER_OF_VIOLATIONS  \\\n",
       "0  Imminent Health Hazard                    4   \n",
       "1               Non-Major                    5   \n",
       "2               Non-Major                    3   \n",
       "3               Non-Major                    3   \n",
       "5                   Major                    7   \n",
       "\n",
       "  NEXT_INSPECTION_GRADE_C_OR_BELOW  \n",
       "0                                0  \n",
       "1                                0  \n",
       "2                                1  \n",
       "3                                0  \n",
       "5                                0  \n",
       "\n",
       "[5 rows x 28 columns]"
      ]
     },
     "metadata": {},
     "execution_count": 50
    }
   ],
   "metadata": {}
  },
  {
   "cell_type": "code",
   "execution_count": 51,
   "source": [
    "# plot the histogram of MEDIAN_EMPLOYEE_AGE\n",
    "plt.hist(train['MEDIAN_EMPLOYEE_AGE'], bins=20)"
   ],
   "outputs": [
    {
     "output_type": "execute_result",
     "data": {
      "text/plain": [
       "(array([ 651.,  299.,  425.,  519.,  639., 1591.,  944.,  912.,  943.,\n",
       "         910., 1560.,  674.,  522.,  430.,  315.,  386.,  100.,   64.,\n",
       "          33.,   31.]),\n",
       " array([18. , 19.2, 20.4, 21.6, 22.8, 24. , 25.2, 26.4, 27.6, 28.8, 30. ,\n",
       "        31.2, 32.4, 33.6, 34.8, 36. , 37.2, 38.4, 39.6, 40.8, 42. ]),\n",
       " <BarContainer object of 20 artists>)"
      ]
     },
     "metadata": {},
     "execution_count": 51
    },
    {
     "output_type": "display_data",
     "data": {
      "image/png": "[encoded data removed]",
      "text/plain": [
       "<Figure size 432x288 with 1 Axes>"
      ]
     },
     "metadata": {
      "needs_background": "light"
     }
    }
   ],
   "metadata": {}
  },
  {
   "cell_type": "code",
   "execution_count": 52,
   "source": [
    "# #distribution of MEDIAN_EMPLOYEE_AGE after removing outliers in previous section \n",
    "sns.distplot(train['MEDIAN_EMPLOYEE_AGE'])\n",
    "# print statistcs of MEDIAN_EMPLOYEE_AGE column to show how the different values make sense \n",
    "train['MEDIAN_EMPLOYEE_AGE'].describe()\n"
   ],
   "outputs": [
    {
     "output_type": "stream",
     "name": "stderr",
     "text": [
      "/opt/anaconda3/lib/python3.8/site-packages/seaborn/distributions.py:2619: FutureWarning: `distplot` is a deprecated function and will be removed in a future version. Please adapt your code to use either `displot` (a figure-level function with similar flexibility) or `histplot` (an axes-level function for histograms).\n",
      "  warnings.warn(msg, FutureWarning)\n"
     ]
    },
    {
     "output_type": "execute_result",
     "data": {
      "text/plain": [
       "count    11948.000000\n",
       "mean        27.527452\n",
       "std          4.824830\n",
       "min         18.000000\n",
       "25%         24.000000\n",
       "50%         27.000000\n",
       "75%         31.000000\n",
       "max         42.000000\n",
       "Name: MEDIAN_EMPLOYEE_AGE, dtype: float64"
      ]
     },
     "metadata": {},
     "execution_count": 52
    },
    {
     "output_type": "display_data",
     "data": {
      "image/png": "[encoded data removed]",
      "text/plain": [
       "<Figure size 432x288 with 1 Axes>"
      ]
     },
     "metadata": {
      "needs_background": "light"
     }
    }
   ],
   "metadata": {}
  },
  {
   "cell_type": "code",
   "execution_count": 53,
   "source": [
    "# plot current grade vs demerits\n",
    "sns.boxplot(x='CURRENT_GRADE', y='INSPECTION_DEMERITS', data=train)\n"
   ],
   "outputs": [
    {
     "output_type": "execute_result",
     "data": {
      "text/plain": [
       "<AxesSubplot:xlabel='CURRENT_GRADE', ylabel='INSPECTION_DEMERITS'>"
      ]
     },
     "metadata": {},
     "execution_count": 53
    },
    {
     "output_type": "display_data",
     "data": {
      "image/png": "[encoded data removed]",
      "text/plain": [
       "<Figure size 432x288 with 1 Axes>"
      ]
     },
     "metadata": {
      "needs_background": "light"
     }
    }
   ],
   "metadata": {}
  },
  {
   "cell_type": "code",
   "execution_count": 54,
   "source": [
    "# identify if there is multicollinearity in the data \n",
    "# plot correlation matrix\n",
    "corr = train.corr()\n",
    "sns.heatmap(corr,\n",
    "    xticklabels=corr.columns.values,\n",
    "    yticklabels=corr.columns.values)\n",
    "plt.show()"
   ],
   "outputs": [
    {
     "output_type": "display_data",
     "data": {
      "image/png": "[encoded data removed]",
      "text/plain": [
       "<Figure size 432x288 with 2 Axes>"
      ]
     },
     "metadata": {
      "needs_background": "light"
     }
    }
   ],
   "metadata": {}
  },
  {
   "cell_type": "code",
   "execution_count": null,
   "source": [],
   "outputs": [],
   "metadata": {}
  },
  {
   "cell_type": "markdown",
   "source": [
    "## Feature Prep "
   ],
   "metadata": {}
  },
  {
   "cell_type": "markdown",
   "source": [],
   "metadata": {}
  },
  {
   "cell_type": "code",
   "execution_count": 55,
   "source": [
    "train.head()"
   ],
   "outputs": [
    {
     "output_type": "execute_result",
     "data": {
      "text/html": [
       "<div>\n",
       "<style scoped>\n",
       "    .dataframe tbody tr th:only-of-type {\n",
       "        vertical-align: middle;\n",
       "    }\n",
       "\n",
       "    .dataframe tbody tr th {\n",
       "        vertical-align: top;\n",
       "    }\n",
       "\n",
       "    .dataframe thead th {\n",
       "        text-align: right;\n",
       "    }\n",
       "</style>\n",
       "<table border=\"1\" class=\"dataframe\">\n",
       "  <thead>\n",
       "    <tr style=\"text-align: right;\">\n",
       "      <th></th>\n",
       "      <th>RESTAURANT_SERIAL_NUMBER</th>\n",
       "      <th>RESTAURANT_PERMIT_NUMBER</th>\n",
       "      <th>RESTAURANT_NAME</th>\n",
       "      <th>RESTAURANT_LOCATION</th>\n",
       "      <th>RESTAURANT_CATEGORY</th>\n",
       "      <th>ADDRESS</th>\n",
       "      <th>CITY</th>\n",
       "      <th>STATE</th>\n",
       "      <th>ZIP</th>\n",
       "      <th>CURRENT_DEMERITS</th>\n",
       "      <th>...</th>\n",
       "      <th>RECORD_UPDATED</th>\n",
       "      <th>LAT_LONG_RAW</th>\n",
       "      <th>FIRST_VIOLATION</th>\n",
       "      <th>SECOND_VIOLATION</th>\n",
       "      <th>THIRD_VIOLATION</th>\n",
       "      <th>FIRST_VIOLATION_TYPE</th>\n",
       "      <th>SECOND_VIOLATION_TYPE</th>\n",
       "      <th>THIRD_VIOLATION_TYPE</th>\n",
       "      <th>NUMBER_OF_VIOLATIONS</th>\n",
       "      <th>NEXT_INSPECTION_GRADE_C_OR_BELOW</th>\n",
       "    </tr>\n",
       "  </thead>\n",
       "  <tbody>\n",
       "    <tr>\n",
       "      <th>0</th>\n",
       "      <td>DA1117270</td>\n",
       "      <td>PR0004527</td>\n",
       "      <td>SANDS EXPO HALL B2 CONCESSION</td>\n",
       "      <td>SANDS EXPO &amp; CONVENTION CENTER</td>\n",
       "      <td>Snack Bar</td>\n",
       "      <td>201 E Sands Ave</td>\n",
       "      <td>Las Vegas</td>\n",
       "      <td>Nevada</td>\n",
       "      <td>89169-2617</td>\n",
       "      <td>0.0</td>\n",
       "      <td>...</td>\n",
       "      <td>2015-01-06 16:34:00</td>\n",
       "      <td>(36.1221442, 115.1652749)</td>\n",
       "      <td>Critical</td>\n",
       "      <td>Major</td>\n",
       "      <td>Imminent Health Hazard</td>\n",
       "      <td>Critical</td>\n",
       "      <td>Major</td>\n",
       "      <td>Imminent Health Hazard</td>\n",
       "      <td>4</td>\n",
       "      <td>0</td>\n",
       "    </tr>\n",
       "    <tr>\n",
       "      <th>1</th>\n",
       "      <td>DA1014948</td>\n",
       "      <td>PR0024221</td>\n",
       "      <td>THAI NOODLES CAFE - RESTAURANT</td>\n",
       "      <td>THAI NOODLES CAFE</td>\n",
       "      <td>Restaurant</td>\n",
       "      <td>6710 W CHEYENNE Ave</td>\n",
       "      <td>Las Vegas</td>\n",
       "      <td>Nevada</td>\n",
       "      <td>89108-4588</td>\n",
       "      <td>3.0</td>\n",
       "      <td>...</td>\n",
       "      <td>2013-02-21 22:26:00</td>\n",
       "      <td>(36.218691, 115.242913)</td>\n",
       "      <td>Major</td>\n",
       "      <td>Major</td>\n",
       "      <td>Non-Major</td>\n",
       "      <td>Major</td>\n",
       "      <td>Major</td>\n",
       "      <td>Non-Major</td>\n",
       "      <td>5</td>\n",
       "      <td>0</td>\n",
       "    </tr>\n",
       "    <tr>\n",
       "      <th>2</th>\n",
       "      <td>DA0861994</td>\n",
       "      <td>PR0019017</td>\n",
       "      <td>SANTA FE SPORTS BOOK GRILL</td>\n",
       "      <td>Santa Fe Station Hotel &amp; Casino</td>\n",
       "      <td>Restaurant</td>\n",
       "      <td>4949 N Rancho Dr</td>\n",
       "      <td>Las Vegas</td>\n",
       "      <td>Nevada</td>\n",
       "      <td>89130-3505</td>\n",
       "      <td>8.0</td>\n",
       "      <td>...</td>\n",
       "      <td>2015-04-06 09:00:00</td>\n",
       "      <td>(36.2498922, 115.2441383)</td>\n",
       "      <td>Critical</td>\n",
       "      <td>Major</td>\n",
       "      <td>Non-Major</td>\n",
       "      <td>Critical</td>\n",
       "      <td>Major</td>\n",
       "      <td>Non-Major</td>\n",
       "      <td>3</td>\n",
       "      <td>1</td>\n",
       "    </tr>\n",
       "    <tr>\n",
       "      <th>3</th>\n",
       "      <td>DA0896719</td>\n",
       "      <td>PR0001343</td>\n",
       "      <td>Bracken, Walter Elem School Kit</td>\n",
       "      <td>Bracken, Walter Elem School</td>\n",
       "      <td>Elementary School Kitchen</td>\n",
       "      <td>1200 N 27Th St</td>\n",
       "      <td>Las Vegas</td>\n",
       "      <td>Nevada</td>\n",
       "      <td>89101-1517</td>\n",
       "      <td>0.0</td>\n",
       "      <td>...</td>\n",
       "      <td>2013-02-21 22:26:00</td>\n",
       "      <td>(36.183669, 115.112355)</td>\n",
       "      <td>Major</td>\n",
       "      <td>Non-Major</td>\n",
       "      <td>Non-Major</td>\n",
       "      <td>Major</td>\n",
       "      <td>Non-Major</td>\n",
       "      <td>Non-Major</td>\n",
       "      <td>3</td>\n",
       "      <td>0</td>\n",
       "    </tr>\n",
       "    <tr>\n",
       "      <th>5</th>\n",
       "      <td>DA1567561</td>\n",
       "      <td>PR0006724</td>\n",
       "      <td>Hotel Brendans Irish Pub</td>\n",
       "      <td>Orleans Hotel and Casino</td>\n",
       "      <td>Bar / Tavern</td>\n",
       "      <td>4500 W Tropicana Ave</td>\n",
       "      <td>Las Vegas</td>\n",
       "      <td>Nevada</td>\n",
       "      <td>89103-5420</td>\n",
       "      <td>3.0</td>\n",
       "      <td>...</td>\n",
       "      <td>2015-09-11 16:59:00</td>\n",
       "      <td>(36.1027192, 115.201984)</td>\n",
       "      <td>Critical</td>\n",
       "      <td>Major</td>\n",
       "      <td>Major</td>\n",
       "      <td>Critical</td>\n",
       "      <td>Major</td>\n",
       "      <td>Major</td>\n",
       "      <td>7</td>\n",
       "      <td>0</td>\n",
       "    </tr>\n",
       "  </tbody>\n",
       "</table>\n",
       "<p>5 rows × 28 columns</p>\n",
       "</div>"
      ],
      "text/plain": [
       "  RESTAURANT_SERIAL_NUMBER RESTAURANT_PERMIT_NUMBER  \\\n",
       "0                DA1117270                PR0004527   \n",
       "1                DA1014948                PR0024221   \n",
       "2                DA0861994                PR0019017   \n",
       "3                DA0896719                PR0001343   \n",
       "5                DA1567561                PR0006724   \n",
       "\n",
       "                   RESTAURANT_NAME              RESTAURANT_LOCATION  \\\n",
       "0    SANDS EXPO HALL B2 CONCESSION   SANDS EXPO & CONVENTION CENTER   \n",
       "1   THAI NOODLES CAFE - RESTAURANT                THAI NOODLES CAFE   \n",
       "2       SANTA FE SPORTS BOOK GRILL  Santa Fe Station Hotel & Casino   \n",
       "3  Bracken, Walter Elem School Kit      Bracken, Walter Elem School   \n",
       "5         Hotel Brendans Irish Pub         Orleans Hotel and Casino   \n",
       "\n",
       "         RESTAURANT_CATEGORY               ADDRESS       CITY   STATE  \\\n",
       "0                  Snack Bar       201 E Sands Ave  Las Vegas  Nevada   \n",
       "1                 Restaurant   6710 W CHEYENNE Ave  Las Vegas  Nevada   \n",
       "2                 Restaurant      4949 N Rancho Dr  Las Vegas  Nevada   \n",
       "3  Elementary School Kitchen        1200 N 27Th St  Las Vegas  Nevada   \n",
       "5               Bar / Tavern  4500 W Tropicana Ave  Las Vegas  Nevada   \n",
       "\n",
       "          ZIP  CURRENT_DEMERITS  ...      RECORD_UPDATED  \\\n",
       "0  89169-2617               0.0  ... 2015-01-06 16:34:00   \n",
       "1  89108-4588               3.0  ... 2013-02-21 22:26:00   \n",
       "2  89130-3505               8.0  ... 2015-04-06 09:00:00   \n",
       "3  89101-1517               0.0  ... 2013-02-21 22:26:00   \n",
       "5  89103-5420               3.0  ... 2015-09-11 16:59:00   \n",
       "\n",
       "                LAT_LONG_RAW  FIRST_VIOLATION  SECOND_VIOLATION  \\\n",
       "0  (36.1221442, 115.1652749)         Critical             Major   \n",
       "1    (36.218691, 115.242913)            Major             Major   \n",
       "2  (36.2498922, 115.2441383)         Critical             Major   \n",
       "3    (36.183669, 115.112355)            Major         Non-Major   \n",
       "5   (36.1027192, 115.201984)         Critical             Major   \n",
       "\n",
       "          THIRD_VIOLATION FIRST_VIOLATION_TYPE  SECOND_VIOLATION_TYPE  \\\n",
       "0  Imminent Health Hazard             Critical                  Major   \n",
       "1               Non-Major                Major                  Major   \n",
       "2               Non-Major             Critical                  Major   \n",
       "3               Non-Major                Major              Non-Major   \n",
       "5                   Major             Critical                  Major   \n",
       "\n",
       "     THIRD_VIOLATION_TYPE NUMBER_OF_VIOLATIONS  \\\n",
       "0  Imminent Health Hazard                    4   \n",
       "1               Non-Major                    5   \n",
       "2               Non-Major                    3   \n",
       "3               Non-Major                    3   \n",
       "5                   Major                    7   \n",
       "\n",
       "  NEXT_INSPECTION_GRADE_C_OR_BELOW  \n",
       "0                                0  \n",
       "1                                0  \n",
       "2                                1  \n",
       "3                                0  \n",
       "5                                0  \n",
       "\n",
       "[5 rows x 28 columns]"
      ]
     },
     "metadata": {},
     "execution_count": 55
    }
   ],
   "metadata": {}
  },
  {
   "cell_type": "code",
   "execution_count": 56,
   "source": [
    "'''label encode RESTAURANT_CATEGORY,CURRENT_GRADE,FIRST_VIOLATION,SECOND_VIOLATION,THIRD_VIOLATION,'FIRST_VIOLATION','SECOND_VIOLATION', 'THIRD_VIOLATION', 'FIRST_VIOLATION_TYPE','SECOND_VIOLATION_TYPE', 'THIRD_VIOLATION_TYPE',\n",
    "       '''\n",
    "# label encode RESTAURANT_CATEGORY\n",
    "le = LabelEncoder()\n",
    "train['RESTAURANT_CATEGORY'] = le.fit_transform(train['RESTAURANT_CATEGORY'])\n",
    "# label encode CURRENT_GRADE\n",
    "le = LabelEncoder()\n",
    "train['CURRENT_GRADE'] = le.fit_transform(train['CURRENT_GRADE'])\n",
    "# label encode FIRST_VIOLATION\n",
    "le = LabelEncoder()\n",
    "train['FIRST_VIOLATION'] = le.fit_transform(train['FIRST_VIOLATION'])\n",
    "# label encode SECOND_VIOLATION\n",
    "le = LabelEncoder()\n",
    "train['SECOND_VIOLATION'] = le.fit_transform(train['SECOND_VIOLATION'])\n",
    "# label encode THIRD_VIOLATION\n",
    "le = LabelEncoder() \n",
    "train['THIRD_VIOLATION'] = le.fit_transform(train['THIRD_VIOLATION'])\n",
    "# label encode FIRST_VIOLATION_TYPE\n",
    "le = LabelEncoder()\n",
    "train['FIRST_VIOLATION_TYPE'] = le.fit_transform(train['FIRST_VIOLATION_TYPE'])\n",
    "# label encode SECOND_VIOLATION_TYPE\n",
    "le = LabelEncoder()\n",
    "train['SECOND_VIOLATION_TYPE'] = le.fit_transform(train['SECOND_VIOLATION_TYPE'])\n",
    "# label encode THIRD_VIOLATION_TYPE\n",
    "le = LabelEncoder()\n",
    "train['THIRD_VIOLATION_TYPE'] = le.fit_transform(train['THIRD_VIOLATION_TYPE'])\n"
   ],
   "outputs": [],
   "metadata": {}
  },
  {
   "cell_type": "code",
   "execution_count": 57,
   "source": [
    "'''label encode RESTAURANT_CATEGORY,CURRENT_GRADE,FIRST_VIOLATION,SECOND_VIOLATION,THIRD_VIOLATION,'FIRST_VIOLATION','SECOND_VIOLATION', 'THIRD_VIOLATION', 'FIRST_VIOLATION_TYPE','SECOND_VIOLATION_TYPE', 'THIRD_VIOLATION_TYPE' on the test set'''\n",
    "# label encode RESTAURANT_CATEGORY\n",
    "le=LabelEncoder()\n",
    "test['RESTAURANT_CATEGORY']=le.fit_transform(test['RESTAURANT_CATEGORY'])\n",
    "# label encode CURRENT_GRADE\n",
    "le=LabelEncoder()\n",
    "test['CURRENT_GRADE']=le.fit_transform(test['CURRENT_GRADE'])\n",
    "# label encode FIRST_VIOLATION\n",
    "le=LabelEncoder()\n",
    "test['FIRST_VIOLATION']=le.fit_transform(test['FIRST_VIOLATION'])\n",
    "# label encode SECOND_VIOLATION\n",
    "le=LabelEncoder()\n",
    "test['SECOND_VIOLATION']=le.fit_transform(test['SECOND_VIOLATION'])\n",
    "# label encode THIRD_VIOLATION\n",
    "le=LabelEncoder()\n",
    "test['THIRD_VIOLATION']=le.fit_transform(test['THIRD_VIOLATION'])\n",
    "# label encode FIRST_VIOLATION_TYPE\n",
    "le=LabelEncoder()\n",
    "test['FIRST_VIOLATION_TYPE']=le.fit_transform(test['FIRST_VIOLATION_TYPE'])\n",
    "# label encode SECOND_VIOLATION_TYPE\n",
    "le=LabelEncoder()\n",
    "test['SECOND_VIOLATION_TYPE']=le.fit_transform(test['SECOND_VIOLATION_TYPE'])\n",
    "# label encode THIRD_VIOLATION_TYPE\n",
    "le=LabelEncoder()\n",
    "test['THIRD_VIOLATION_TYPE']=le.fit_transform(test['THIRD_VIOLATION_TYPE'])\n"
   ],
   "outputs": [],
   "metadata": {}
  },
  {
   "cell_type": "markdown",
   "source": [
    "## Model Building"
   ],
   "metadata": {}
  },
  {
   "cell_type": "code",
   "execution_count": 58,
   "source": [
    "# plot corelation heatmap with correlation values inside each box\n",
    "corr = train.corr()\n",
    "plt.figure(figsize=(16,16))\n",
    "sns.heatmap(corr,  \n",
    "    xticklabels=corr.columns.values,\n",
    "    yticklabels=corr.columns.values,annot=True)\n",
    "plt.show()\n",
    "# print correlation values in descending order of absolute value to NEXT_INSPECTION_GRADE_C_OR_BELOW\n",
    "print(train.corr()['NEXT_INSPECTION_GRADE_C_OR_BELOW'].sort_values(ascending=False))\n",
    "\n",
    "\n"
   ],
   "outputs": [
    {
     "output_type": "display_data",
     "data": {
      "image/png": "[encoded data removed]",
      "text/plain": [
       "<Figure size 1152x1152 with 2 Axes>"
      ]
     },
     "metadata": {
      "needs_background": "light"
     }
    },
    {
     "output_type": "stream",
     "name": "stdout",
     "text": [
      "NEXT_INSPECTION_GRADE_C_OR_BELOW    1.000000\n",
      "NUMBER_OF_VIOLATIONS                0.074742\n",
      "INSPECTION_DEMERITS                 0.070482\n",
      "RESTAURANT_CATEGORY                 0.050343\n",
      "CURRENT_GRADE                       0.033035\n",
      "CURRENT_DEMERITS                    0.019477\n",
      "EMPLOYEE_COUNT                      0.002856\n",
      "MEDIAN_EMPLOYEE_TENURE             -0.000712\n",
      "MEDIAN_EMPLOYEE_AGE                -0.004041\n",
      "FIRST_VIOLATION_TYPE               -0.033067\n",
      "FIRST_VIOLATION                    -0.033067\n",
      "THIRD_VIOLATION_TYPE               -0.044506\n",
      "THIRD_VIOLATION                    -0.044506\n",
      "SECOND_VIOLATION_TYPE              -0.053593\n",
      "SECOND_VIOLATION                   -0.053593\n",
      "Name: NEXT_INSPECTION_GRADE_C_OR_BELOW, dtype: float64\n"
     ]
    }
   ],
   "metadata": {}
  },
  {
   "cell_type": "code",
   "execution_count": 59,
   "source": [
    "# split the train data into train and test with 'NEXT_INSPECTION_GRADE_C_OR_BELOW' as target\n",
    "X_train, X_test, y_train, y_test = train_test_split(train.drop(['NEXT_INSPECTION_GRADE_C_OR_BELOW'], axis=1), train['NEXT_INSPECTION_GRADE_C_OR_BELOW'], test_size=0.2, random_state=42)\n",
    "y_train"
   ],
   "outputs": [
    {
     "output_type": "execute_result",
     "data": {
      "text/plain": [
       "5357     0\n",
       "9935     0\n",
       "10639    1\n",
       "11727    0\n",
       "11430    0\n",
       "        ..\n",
       "14784    0\n",
       "6827     0\n",
       "7083     0\n",
       "1135     0\n",
       "9552     1\n",
       "Name: NEXT_INSPECTION_GRADE_C_OR_BELOW, Length: 9558, dtype: int64"
      ]
     },
     "metadata": {},
     "execution_count": 59
    }
   ],
   "metadata": {}
  },
  {
   "cell_type": "code",
   "execution_count": 104,
   "source": [
    "# run naive bayes on a couple columns using NEXT_INSPECTION_GRADE_C_OR_BELOW as target\n",
    "# create a new dataframe with only the columns we want to use for prediction\n",
    "\n",
    "X = X_train[['NUMBER_OF_VIOLATIONS','INSPECTION_DEMERITS' , 'RESTAURANT_CATEGORY', 'CURRENT_GRADE' , 'CURRENT_DEMERITS' ,'EMPLOYEE_COUNT']]\n",
    "y = y_train\n",
    "naive_bayes= GaussianNB()\n",
    "naive_bayes.fit(X, y)\n",
    "# accuracy of the model\n",
    "print(naive_bayes.score(X, y))\n"
   ],
   "outputs": [
    {
     "output_type": "stream",
     "name": "stdout",
     "text": [
      "0.8081188533165934\n"
     ]
    }
   ],
   "metadata": {}
  },
  {
   "cell_type": "code",
   "execution_count": 61,
   "source": [
    "X=X_test[['NUMBER_OF_VIOLATIONS','INSPECTION_DEMERITS' , 'RESTAURANT_CATEGORY', 'CURRENT_GRADE' , 'CURRENT_DEMERITS' ,'EMPLOYEE_COUNT'  ]]\n",
    "y=y_test\n",
    "print(naive_bayes.score(X, y))\n",
    "print(f1_score(y, naive_bayes.predict(X)))\n"
   ],
   "outputs": [
    {
     "output_type": "stream",
     "name": "stdout",
     "text": [
      "0.8313807531380754\n",
      "0.10244988864142539\n"
     ]
    }
   ],
   "metadata": {}
  },
  {
   "cell_type": "code",
   "execution_count": 62,
   "source": [
    "# logistic regression on a couple columns using NEXT_INSPECTION_GRADE_C_OR_BELOW as target\n",
    "X = X_train[['NUMBER_OF_VIOLATIONS','INSPECTION_DEMERITS' , 'RESTAURANT_CATEGORY', 'CURRENT_GRADE' , 'CURRENT_DEMERITS' ,'EMPLOYEE_COUNT'  ]]\n",
    "y = y_train\n",
    "logreg = LogisticRegression()\n",
    "logreg.fit(X, y)\n",
    "# accuracy of the model\n",
    "print(logreg.score(X, y))\n",
    "print(f1_score(y, naive_bayes.predict(X)))\n"
   ],
   "outputs": [
    {
     "output_type": "stream",
     "name": "stdout",
     "text": [
      "0.8363674408872149\n",
      "0.1291547958214625\n"
     ]
    }
   ],
   "metadata": {}
  },
  {
   "cell_type": "code",
   "execution_count": 63,
   "source": [
    "X=X_test[['NUMBER_OF_VIOLATIONS','INSPECTION_DEMERITS' , 'RESTAURANT_CATEGORY', 'CURRENT_GRADE' , 'CURRENT_DEMERITS' ,'EMPLOYEE_COUNT']]\n",
    "y=y_test\n",
    "print(logreg.score(X, y))\n",
    "print(f1_score(y, naive_bayes.predict(X)))"
   ],
   "outputs": [
    {
     "output_type": "stream",
     "name": "stdout",
     "text": [
      "0.8585774058577406\n",
      "0.10244988864142539\n"
     ]
    }
   ],
   "metadata": {}
  },
  {
   "cell_type": "code",
   "execution_count": 64,
   "source": [
    "from sklearn.naive_bayes import GaussianNB\n",
    "from sklearn.naive_bayes import MultinomialNB\n",
    "from sklearn.naive_bayes import BernoulliNB\n",
    "multinomial_nb = MultinomialNB()\n",
    "X=X_train[['NUMBER_OF_VIOLATIONS','INSPECTION_DEMERITS' , 'RESTAURANT_CATEGORY', 'CURRENT_GRADE' , 'CURRENT_DEMERITS' ,'EMPLOYEE_COUNT']]\n",
    "y=y_train\n",
    "multinomial_nb.fit(X, y)\n",
    "print(multinomial_nb.score(X, y))\n",
    "print(f1_score(y, naive_bayes.predict(X)))"
   ],
   "outputs": [
    {
     "output_type": "stream",
     "name": "stdout",
     "text": [
      "0.8273697426239799\n",
      "0.1291547958214625\n"
     ]
    }
   ],
   "metadata": {}
  },
  {
   "cell_type": "code",
   "execution_count": 65,
   "source": [
    "X=X_test[['NUMBER_OF_VIOLATIONS','INSPECTION_DEMERITS' , 'RESTAURANT_CATEGORY', 'CURRENT_GRADE' , 'CURRENT_DEMERITS' ,'EMPLOYEE_COUNT']]\n",
    "y=y_test\n",
    "print(multinomial_nb.score(X, y))\n",
    "print(f1_score(y, naive_bayes.predict(X)))"
   ],
   "outputs": [
    {
     "output_type": "stream",
     "name": "stdout",
     "text": [
      "0.8460251046025105\n",
      "0.10244988864142539\n"
     ]
    }
   ],
   "metadata": {}
  },
  {
   "cell_type": "code",
   "execution_count": 66,
   "source": [
    "bernoulli_nb = BernoulliNB()\n",
    "X=X_train[['NUMBER_OF_VIOLATIONS','INSPECTION_DEMERITS' , 'RESTAURANT_CATEGORY', 'CURRENT_GRADE' , 'CURRENT_DEMERITS' ,'EMPLOYEE_COUNT']]\n",
    "y=y_train\n",
    "bernoulli_nb.fit(X, y)\n",
    "print(bernoulli_nb.score(X, y))\n",
    "print(f1_score(y, naive_bayes.predict(X)))"
   ],
   "outputs": [
    {
     "output_type": "stream",
     "name": "stdout",
     "text": [
      "0.8363674408872149\n",
      "0.1291547958214625\n"
     ]
    }
   ],
   "metadata": {}
  },
  {
   "cell_type": "code",
   "execution_count": 67,
   "source": [
    "X=X_test[['NUMBER_OF_VIOLATIONS','INSPECTION_DEMERITS' , 'RESTAURANT_CATEGORY', 'CURRENT_GRADE' , 'CURRENT_DEMERITS' ,'EMPLOYEE_COUNT']]\n",
    "y=y_test\n",
    "print(bernoulli_nb.score(X, y))\n",
    "print(f1_score(y, naive_bayes.predict(X)))\n"
   ],
   "outputs": [
    {
     "output_type": "stream",
     "name": "stdout",
     "text": [
      "0.8585774058577406\n",
      "0.10244988864142539\n"
     ]
    }
   ],
   "metadata": {}
  },
  {
   "cell_type": "code",
   "execution_count": 75,
   "source": [
    "#predict the NEXT_INSPECTION_GRADE_C_OR_BELOW for the test data using the model and return in csv with columns RESTAURANT_SERIAL_NUMBER, CLASSIFIER_PROBABILITY, and CLASSIFIER_PREDICTION\n",
    "vals=bernoulli_nb.predict(X_test[['NUMBER_OF_VIOLATIONS','INSPECTION_DEMERITS' , 'RESTAURANT_CATEGORY', 'CURRENT_GRADE' , 'CURRENT_DEMERITS' ,'EMPLOYEE_COUNT']])\n",
    "probabiity=bernoulli_nb.predict_proba(X_test[['NUMBER_OF_VIOLATIONS','INSPECTION_DEMERITS' , 'RESTAURANT_CATEGORY', 'CURRENT_GRADE' , 'CURRENT_DEMERITS' ,'EMPLOYEE_COUNT']])\n",
    "ids=X_test['RESTAURANT_SERIAL_NUMBER']\n",
    "# create df, combine above columns and export to csv\n",
    "#df=pd.DataFrame({'RESTAURANT_SERIAL_NUMBER':ids,'CLASSIFIER_PROBABILITY':probabiity,'CLASSIFIER_PREDICTION':vals})\n",
    "probabiity\n",
    "\n"
   ],
   "outputs": [
    {
     "output_type": "execute_result",
     "data": {
      "text/plain": [
       "array([[0.83988285, 0.16011715],\n",
       "       [0.83422785, 0.16577215],\n",
       "       [0.83422785, 0.16577215],\n",
       "       ...,\n",
       "       [0.83988285, 0.16011715],\n",
       "       [0.83988285, 0.16011715],\n",
       "       [0.83988285, 0.16011715]])"
      ]
     },
     "metadata": {},
     "execution_count": 75
    }
   ],
   "metadata": {}
  },
  {
   "cell_type": "code",
   "execution_count": 136,
   "source": [
    "# random forest import\n",
    "from sklearn.ensemble import RandomForestClassifier\n",
    "# random forest regression \n",
    "X = X_train[['NUMBER_OF_VIOLATIONS', 'CURRENT_GRADE' , 'EMPLOYEE_COUNT','RESTAURANT_CATEGORY','CURRENT_DEMERITS']]\n",
    "y = y_train\n",
    "rf = RandomForestClassifier(n_estimators=100)\n",
    "rf.fit(X, y)\n",
    "print(rf.score(X, y))"
   ],
   "outputs": [
    {
     "output_type": "stream",
     "name": "stdout",
     "text": [
      "0.8977819627537141\n"
     ]
    }
   ],
   "metadata": {}
  },
  {
   "cell_type": "code",
   "execution_count": 135,
   "source": [
    "# run on test data\n",
    "X=X_test[['NUMBER_OF_VIOLATIONS', 'CURRENT_GRADE' , 'EMPLOYEE_COUNT','RESTAURANT_CATEGORY','CURRENT_DEMERITS']]    \n",
    "y=y_test\n",
    "print(rf.score(X, y))\n",
    "print(f1_score(y, rf.predict(X)))"
   ],
   "outputs": [
    {
     "output_type": "stream",
     "name": "stdout",
     "text": [
      "0.8205020920502092\n",
      "0.0734341252699784\n"
     ]
    }
   ],
   "metadata": {}
  },
  {
   "cell_type": "code",
   "execution_count": 138,
   "source": [
    "# predict probabilities for the test data\n",
    "probabilities = rf.predict_proba(test[['NUMBER_OF_VIOLATIONS', 'CURRENT_GRADE' , 'EMPLOYEE_COUNT','RESTAURANT_CATEGORY','CURRENT_DEMERITS']])\n",
    "# get only second column of probabilities\n",
    "probabilities = probabilities[:, 1]\n",
    "# create df with RESTAURANT_SERIAL_NUMBER and CLASSIFIER_PROBABILITY, and prediction as CLASSIFIER_PREDICTION\n",
    "df = pd.DataFrame({'RESTAURANT_SERIAL_NUMBER': test['RESTAURANT_SERIAL_NUMBER'], 'CLASSIFIER_PROBABILITY': probabilities, 'CLASSIFIER_PREDICTION': rf.predict(test[['NUMBER_OF_VIOLATIONS', 'CURRENT_GRADE' , 'EMPLOYEE_COUNT','RESTAURANT_CATEGORY','CURRENT_DEMERITS']])})\n",
    "# export to csv\n",
    "df.to_csv('/Users/srikarprayaga/Desktop/predictions.csv', index=False)"
   ],
   "outputs": [],
   "metadata": {}
  },
  {
   "cell_type": "code",
   "execution_count": null,
   "source": [],
   "outputs": [],
   "metadata": {}
  }
 ],
 "metadata": {
  "orig_nbformat": 4,
  "language_info": {
   "name": "python",
   "version": "3.8.5",
   "mimetype": "text/x-python",
   "codemirror_mode": {
    "name": "ipython",
    "version": 3
   },
   "pygments_lexer": "ipython3",
   "nbconvert_exporter": "python",
   "file_extension": ".py"
  },
  "kernelspec": {
   "name": "python3",
   "display_name": "Python 3.8.5 64-bit ('base': conda)"
  },
  "interpreter": {
   "hash": "dca0ade3e726a953b501b15e8e990130d2b7799f14cfd9f4271676035ebe5511"
  }
 },
 "nbformat": 4,
 "nbformat_minor": 2
}