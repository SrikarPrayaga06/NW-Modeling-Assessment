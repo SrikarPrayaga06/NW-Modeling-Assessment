{
 "cells": [
  {
   "cell_type": "code",
   "execution_count": 61,
   "source": [
    "# imports \n",
    "import pandas as pd\n",
    "import numpy as np\n",
    "import matplotlib.pyplot as plt\n",
    "import seaborn as sns"
   ],
   "outputs": [],
   "metadata": {}
  },
  {
   "cell_type": "code",
   "execution_count": 62,
   "source": [
    "# read in data\n",
    "train=pd.read_csv('/Users/srikarprayaga/Desktop/NW-Modeling-Assessment/TRAIN_SET_2021.csv')\n",
    "test=pd.read_csv('/Users/srikarprayaga/Desktop/NW-Modeling-Assessment/TEST_SET_2021.csv')"
   ],
   "outputs": [],
   "metadata": {}
  },
  {
   "cell_type": "markdown",
   "source": [
    "## Exploratory Analysis"
   ],
   "metadata": {}
  },
  {
   "cell_type": "code",
   "execution_count": 63,
   "source": [
    "train.head()"
   ],
   "outputs": [
    {
     "output_type": "execute_result",
     "data": {
      "text/html": [
       "<div>\n",
       "<style scoped>\n",
       "    .dataframe tbody tr th:only-of-type {\n",
       "        vertical-align: middle;\n",
       "    }\n",
       "\n",
       "    .dataframe tbody tr th {\n",
       "        vertical-align: top;\n",
       "    }\n",
       "\n",
       "    .dataframe thead th {\n",
       "        text-align: right;\n",
       "    }\n",
       "</style>\n",
       "<table border=\"1\" class=\"dataframe\">\n",
       "  <thead>\n",
       "    <tr style=\"text-align: right;\">\n",
       "      <th></th>\n",
       "      <th>RESTAURANT_SERIAL_NUMBER</th>\n",
       "      <th>RESTAURANT_PERMIT_NUMBER</th>\n",
       "      <th>RESTAURANT_NAME</th>\n",
       "      <th>RESTAURANT_LOCATION</th>\n",
       "      <th>RESTAURANT_CATEGORY</th>\n",
       "      <th>ADDRESS</th>\n",
       "      <th>CITY</th>\n",
       "      <th>STATE</th>\n",
       "      <th>ZIP</th>\n",
       "      <th>CURRENT_DEMERITS</th>\n",
       "      <th>...</th>\n",
       "      <th>RECORD_UPDATED</th>\n",
       "      <th>LAT_LONG_RAW</th>\n",
       "      <th>FIRST_VIOLATION</th>\n",
       "      <th>SECOND_VIOLATION</th>\n",
       "      <th>THIRD_VIOLATION</th>\n",
       "      <th>FIRST_VIOLATION_TYPE</th>\n",
       "      <th>SECOND_VIOLATION_TYPE</th>\n",
       "      <th>THIRD_VIOLATION_TYPE</th>\n",
       "      <th>NUMBER_OF_VIOLATIONS</th>\n",
       "      <th>NEXT_INSPECTION_GRADE_C_OR_BELOW</th>\n",
       "    </tr>\n",
       "  </thead>\n",
       "  <tbody>\n",
       "    <tr>\n",
       "      <th>0</th>\n",
       "      <td>DA1117270</td>\n",
       "      <td>PR0004527</td>\n",
       "      <td>SANDS EXPO HALL B2 CONCESSION</td>\n",
       "      <td>SANDS EXPO &amp; CONVENTION CENTER</td>\n",
       "      <td>Snack Bar</td>\n",
       "      <td>201 E Sands Ave</td>\n",
       "      <td>Las Vegas</td>\n",
       "      <td>Nevada</td>\n",
       "      <td>89169-2617</td>\n",
       "      <td>0.0</td>\n",
       "      <td>...</td>\n",
       "      <td>1/6/2015 16:34</td>\n",
       "      <td>(36.1221442, 115.1652749)</td>\n",
       "      <td>204.0</td>\n",
       "      <td>215.0</td>\n",
       "      <td>302.0</td>\n",
       "      <td>Critical</td>\n",
       "      <td>Major</td>\n",
       "      <td>Imminent Health Hazard</td>\n",
       "      <td>4</td>\n",
       "      <td>0</td>\n",
       "    </tr>\n",
       "    <tr>\n",
       "      <th>1</th>\n",
       "      <td>DA1014948</td>\n",
       "      <td>PR0024221</td>\n",
       "      <td>THAI NOODLES CAFE - RESTAURANT</td>\n",
       "      <td>THAI NOODLES CAFE</td>\n",
       "      <td>Restaurant</td>\n",
       "      <td>6710 W CHEYENNE Ave</td>\n",
       "      <td>Las Vegas</td>\n",
       "      <td>Nevada</td>\n",
       "      <td>89108-4588</td>\n",
       "      <td>3.0</td>\n",
       "      <td>...</td>\n",
       "      <td>2/21/2013 22:26</td>\n",
       "      <td>(36.218691, 115.242913)</td>\n",
       "      <td>214.0</td>\n",
       "      <td>216.0</td>\n",
       "      <td>229.0</td>\n",
       "      <td>Major</td>\n",
       "      <td>Major</td>\n",
       "      <td>Non-Major</td>\n",
       "      <td>5</td>\n",
       "      <td>0</td>\n",
       "    </tr>\n",
       "    <tr>\n",
       "      <th>2</th>\n",
       "      <td>DA0861994</td>\n",
       "      <td>PR0019017</td>\n",
       "      <td>SANTA FE SPORTS BOOK GRILL</td>\n",
       "      <td>Santa Fe Station Hotel &amp; Casino</td>\n",
       "      <td>Restaurant</td>\n",
       "      <td>4949 N Rancho Dr</td>\n",
       "      <td>Las Vegas</td>\n",
       "      <td>Nevada</td>\n",
       "      <td>89130-3505</td>\n",
       "      <td>8.0</td>\n",
       "      <td>...</td>\n",
       "      <td>4/6/2015 9:00</td>\n",
       "      <td>(36.2498922, 115.2441383)</td>\n",
       "      <td>202.0</td>\n",
       "      <td>215.0</td>\n",
       "      <td>233.0</td>\n",
       "      <td>Critical</td>\n",
       "      <td>Major</td>\n",
       "      <td>Non-Major</td>\n",
       "      <td>3</td>\n",
       "      <td>1</td>\n",
       "    </tr>\n",
       "    <tr>\n",
       "      <th>3</th>\n",
       "      <td>DA0896719</td>\n",
       "      <td>PR0001343</td>\n",
       "      <td>Bracken, Walter Elem School Kit</td>\n",
       "      <td>Bracken, Walter Elem School</td>\n",
       "      <td>Elementary School Kitchen</td>\n",
       "      <td>1200 N 27Th St</td>\n",
       "      <td>Las Vegas</td>\n",
       "      <td>Nevada</td>\n",
       "      <td>89101-1517</td>\n",
       "      <td>0.0</td>\n",
       "      <td>...</td>\n",
       "      <td>2/21/2013 22:26</td>\n",
       "      <td>(36.183669, 115.112355)</td>\n",
       "      <td>214.0</td>\n",
       "      <td>230.0</td>\n",
       "      <td>233.0</td>\n",
       "      <td>Major</td>\n",
       "      <td>Non-Major</td>\n",
       "      <td>Non-Major</td>\n",
       "      <td>3</td>\n",
       "      <td>0</td>\n",
       "    </tr>\n",
       "    <tr>\n",
       "      <th>4</th>\n",
       "      <td>DA1031041</td>\n",
       "      <td>PR0006084</td>\n",
       "      <td>HARD ROCK JOINT EAST SVC BAR FL 1</td>\n",
       "      <td>HARD ROCK HOTEL &amp; CASINO</td>\n",
       "      <td>Bar / Tavern</td>\n",
       "      <td>4455 S Paradise Rd</td>\n",
       "      <td>Las Vegas</td>\n",
       "      <td>Nevada</td>\n",
       "      <td>89169-6574</td>\n",
       "      <td>0.0</td>\n",
       "      <td>...</td>\n",
       "      <td>2/21/2013 22:26</td>\n",
       "      <td>(36.1100828, 115.1538714)</td>\n",
       "      <td>214.0</td>\n",
       "      <td>230.0</td>\n",
       "      <td>233.0</td>\n",
       "      <td>Major</td>\n",
       "      <td>Non-Major</td>\n",
       "      <td>Non-Major</td>\n",
       "      <td>NaN</td>\n",
       "      <td>0</td>\n",
       "    </tr>\n",
       "  </tbody>\n",
       "</table>\n",
       "<p>5 rows × 28 columns</p>\n",
       "</div>"
      ],
      "text/plain": [
       "  RESTAURANT_SERIAL_NUMBER RESTAURANT_PERMIT_NUMBER  \\\n",
       "0                DA1117270                PR0004527   \n",
       "1                DA1014948                PR0024221   \n",
       "2                DA0861994                PR0019017   \n",
       "3                DA0896719                PR0001343   \n",
       "4                DA1031041                PR0006084   \n",
       "\n",
       "                     RESTAURANT_NAME              RESTAURANT_LOCATION  \\\n",
       "0      SANDS EXPO HALL B2 CONCESSION   SANDS EXPO & CONVENTION CENTER   \n",
       "1     THAI NOODLES CAFE - RESTAURANT                THAI NOODLES CAFE   \n",
       "2         SANTA FE SPORTS BOOK GRILL  Santa Fe Station Hotel & Casino   \n",
       "3    Bracken, Walter Elem School Kit      Bracken, Walter Elem School   \n",
       "4  HARD ROCK JOINT EAST SVC BAR FL 1         HARD ROCK HOTEL & CASINO   \n",
       "\n",
       "         RESTAURANT_CATEGORY              ADDRESS       CITY   STATE  \\\n",
       "0                  Snack Bar      201 E Sands Ave  Las Vegas  Nevada   \n",
       "1                 Restaurant  6710 W CHEYENNE Ave  Las Vegas  Nevada   \n",
       "2                 Restaurant     4949 N Rancho Dr  Las Vegas  Nevada   \n",
       "3  Elementary School Kitchen       1200 N 27Th St  Las Vegas  Nevada   \n",
       "4               Bar / Tavern   4455 S Paradise Rd  Las Vegas  Nevada   \n",
       "\n",
       "          ZIP  CURRENT_DEMERITS  ...   RECORD_UPDATED  \\\n",
       "0  89169-2617               0.0  ...   1/6/2015 16:34   \n",
       "1  89108-4588               3.0  ...  2/21/2013 22:26   \n",
       "2  89130-3505               8.0  ...    4/6/2015 9:00   \n",
       "3  89101-1517               0.0  ...  2/21/2013 22:26   \n",
       "4  89169-6574               0.0  ...  2/21/2013 22:26   \n",
       "\n",
       "                LAT_LONG_RAW  FIRST_VIOLATION  SECOND_VIOLATION  \\\n",
       "0  (36.1221442, 115.1652749)            204.0             215.0   \n",
       "1    (36.218691, 115.242913)            214.0             216.0   \n",
       "2  (36.2498922, 115.2441383)            202.0             215.0   \n",
       "3    (36.183669, 115.112355)            214.0             230.0   \n",
       "4  (36.1100828, 115.1538714)            214.0             230.0   \n",
       "\n",
       "  THIRD_VIOLATION FIRST_VIOLATION_TYPE SECOND_VIOLATION_TYPE  \\\n",
       "0           302.0             Critical                 Major   \n",
       "1           229.0                Major                 Major   \n",
       "2           233.0             Critical                 Major   \n",
       "3           233.0                Major             Non-Major   \n",
       "4           233.0                Major             Non-Major   \n",
       "\n",
       "     THIRD_VIOLATION_TYPE NUMBER_OF_VIOLATIONS  \\\n",
       "0  Imminent Health Hazard                    4   \n",
       "1               Non-Major                    5   \n",
       "2               Non-Major                    3   \n",
       "3               Non-Major                    3   \n",
       "4               Non-Major                  NaN   \n",
       "\n",
       "  NEXT_INSPECTION_GRADE_C_OR_BELOW  \n",
       "0                                0  \n",
       "1                                0  \n",
       "2                                1  \n",
       "3                                0  \n",
       "4                                0  \n",
       "\n",
       "[5 rows x 28 columns]"
      ]
     },
     "metadata": {},
     "execution_count": 63
    }
   ],
   "metadata": {}
  },
  {
   "cell_type": "code",
   "execution_count": 64,
   "source": [
    "# target variable \n",
    "train[\"NEXT_INSPECTION_GRADE_C_OR_BELOW\"]"
   ],
   "outputs": [
    {
     "output_type": "execute_result",
     "data": {
      "text/plain": [
       "0        0\n",
       "1        0\n",
       "2        1\n",
       "3        0\n",
       "4        0\n",
       "        ..\n",
       "15668    0\n",
       "15669    0\n",
       "15670    0\n",
       "15671    0\n",
       "15672    0\n",
       "Name: NEXT_INSPECTION_GRADE_C_OR_BELOW, Length: 15673, dtype: object"
      ]
     },
     "metadata": {},
     "execution_count": 64
    }
   ],
   "metadata": {}
  },
  {
   "cell_type": "code",
   "execution_count": 65,
   "source": [
    "train.shape"
   ],
   "outputs": [
    {
     "output_type": "execute_result",
     "data": {
      "text/plain": [
       "(15673, 28)"
      ]
     },
     "metadata": {},
     "execution_count": 65
    }
   ],
   "metadata": {}
  },
  {
   "cell_type": "code",
   "execution_count": 66,
   "source": [
    "train.columns"
   ],
   "outputs": [
    {
     "output_type": "execute_result",
     "data": {
      "text/plain": [
       "Index(['RESTAURANT_SERIAL_NUMBER', 'RESTAURANT_PERMIT_NUMBER',\n",
       "       'RESTAURANT_NAME', 'RESTAURANT_LOCATION', 'RESTAURANT_CATEGORY',\n",
       "       'ADDRESS', 'CITY', 'STATE', 'ZIP', 'CURRENT_DEMERITS', 'CURRENT_GRADE',\n",
       "       'EMPLOYEE_COUNT', 'MEDIAN_EMPLOYEE_AGE', 'MEDIAN_EMPLOYEE_TENURE',\n",
       "       'INSPECTION_TIME', 'INSPECTION_TYPE', 'INSPECTION_DEMERITS',\n",
       "       'VIOLATIONS_RAW', 'RECORD_UPDATED', 'LAT_LONG_RAW', 'FIRST_VIOLATION',\n",
       "       'SECOND_VIOLATION', 'THIRD_VIOLATION', 'FIRST_VIOLATION_TYPE',\n",
       "       'SECOND_VIOLATION_TYPE', 'THIRD_VIOLATION_TYPE', 'NUMBER_OF_VIOLATIONS',\n",
       "       'NEXT_INSPECTION_GRADE_C_OR_BELOW'],\n",
       "      dtype='object')"
      ]
     },
     "metadata": {},
     "execution_count": 66
    }
   ],
   "metadata": {}
  },
  {
   "cell_type": "code",
   "execution_count": 67,
   "source": [
    "# check number of null values per column\n",
    "train.isnull().sum()"
   ],
   "outputs": [
    {
     "output_type": "execute_result",
     "data": {
      "text/plain": [
       "RESTAURANT_SERIAL_NUMBER              0\n",
       "RESTAURANT_PERMIT_NUMBER              0\n",
       "RESTAURANT_NAME                      65\n",
       "RESTAURANT_LOCATION                 200\n",
       "RESTAURANT_CATEGORY                 130\n",
       "ADDRESS                              70\n",
       "CITY                                236\n",
       "STATE                               209\n",
       "ZIP                                  59\n",
       "CURRENT_DEMERITS                    216\n",
       "CURRENT_GRADE                       308\n",
       "EMPLOYEE_COUNT                       93\n",
       "MEDIAN_EMPLOYEE_AGE                  34\n",
       "MEDIAN_EMPLOYEE_TENURE              297\n",
       "INSPECTION_TIME                     183\n",
       "INSPECTION_TYPE                     221\n",
       "INSPECTION_DEMERITS                 254\n",
       "VIOLATIONS_RAW                      165\n",
       "RECORD_UPDATED                      119\n",
       "LAT_LONG_RAW                         15\n",
       "FIRST_VIOLATION                     212\n",
       "SECOND_VIOLATION                     85\n",
       "THIRD_VIOLATION                      61\n",
       "FIRST_VIOLATION_TYPE                146\n",
       "SECOND_VIOLATION_TYPE               267\n",
       "THIRD_VIOLATION_TYPE                173\n",
       "NUMBER_OF_VIOLATIONS                169\n",
       "NEXT_INSPECTION_GRADE_C_OR_BELOW     40\n",
       "dtype: int64"
      ]
     },
     "metadata": {},
     "execution_count": 67
    }
   ],
   "metadata": {}
  },
  {
   "cell_type": "code",
   "execution_count": 76,
   "source": [
    "# take care of null values \n",
    "# drop all the rows with null values \n",
    "train.dropna(inplace=True)\n",
    "train.isnull().sum()\n"
   ],
   "outputs": [
    {
     "output_type": "execute_result",
     "data": {
      "text/plain": [
       "RESTAURANT_SERIAL_NUMBER            0\n",
       "RESTAURANT_PERMIT_NUMBER            0\n",
       "RESTAURANT_NAME                     0\n",
       "RESTAURANT_LOCATION                 0\n",
       "RESTAURANT_CATEGORY                 0\n",
       "ADDRESS                             0\n",
       "CITY                                0\n",
       "STATE                               0\n",
       "ZIP                                 0\n",
       "CURRENT_DEMERITS                    0\n",
       "CURRENT_GRADE                       0\n",
       "EMPLOYEE_COUNT                      0\n",
       "MEDIAN_EMPLOYEE_AGE                 0\n",
       "MEDIAN_EMPLOYEE_TENURE              0\n",
       "INSPECTION_TIME                     0\n",
       "INSPECTION_TYPE                     0\n",
       "INSPECTION_DEMERITS                 0\n",
       "VIOLATIONS_RAW                      0\n",
       "RECORD_UPDATED                      0\n",
       "LAT_LONG_RAW                        0\n",
       "FIRST_VIOLATION                     0\n",
       "SECOND_VIOLATION                    0\n",
       "THIRD_VIOLATION                     0\n",
       "FIRST_VIOLATION_TYPE                0\n",
       "SECOND_VIOLATION_TYPE               0\n",
       "THIRD_VIOLATION_TYPE                0\n",
       "NUMBER_OF_VIOLATIONS                0\n",
       "NEXT_INSPECTION_GRADE_C_OR_BELOW    0\n",
       "dtype: int64"
      ]
     },
     "metadata": {},
     "execution_count": 76
    }
   ],
   "metadata": {}
  },
  {
   "cell_type": "code",
   "execution_count": 78,
   "source": [
    "train.shape"
   ],
   "outputs": [
    {
     "output_type": "execute_result",
     "data": {
      "text/plain": [
       "(12083, 28)"
      ]
     },
     "metadata": {},
     "execution_count": 78
    }
   ],
   "metadata": {}
  },
  {
   "cell_type": "code",
   "execution_count": 9,
   "source": [
    "# datatypes of all columns\n",
    "train.dtypes"
   ],
   "outputs": [
    {
     "output_type": "execute_result",
     "data": {
      "text/plain": [
       "RESTAURANT_SERIAL_NUMBER             object\n",
       "RESTAURANT_PERMIT_NUMBER             object\n",
       "RESTAURANT_NAME                      object\n",
       "RESTAURANT_LOCATION                  object\n",
       "RESTAURANT_CATEGORY                  object\n",
       "ADDRESS                              object\n",
       "CITY                                 object\n",
       "STATE                                object\n",
       "ZIP                                  object\n",
       "CURRENT_DEMERITS                    float64\n",
       "CURRENT_GRADE                        object\n",
       "EMPLOYEE_COUNT                      float64\n",
       "MEDIAN_EMPLOYEE_AGE                 float64\n",
       "MEDIAN_EMPLOYEE_TENURE              float64\n",
       "INSPECTION_TIME                      object\n",
       "INSPECTION_TYPE                      object\n",
       "INSPECTION_DEMERITS                  object\n",
       "VIOLATIONS_RAW                       object\n",
       "RECORD_UPDATED                       object\n",
       "LAT_LONG_RAW                         object\n",
       "FIRST_VIOLATION                     float64\n",
       "SECOND_VIOLATION                    float64\n",
       "THIRD_VIOLATION                     float64\n",
       "FIRST_VIOLATION_TYPE                 object\n",
       "SECOND_VIOLATION_TYPE                object\n",
       "THIRD_VIOLATION_TYPE                 object\n",
       "NUMBER_OF_VIOLATIONS                 object\n",
       "NEXT_INSPECTION_GRADE_C_OR_BELOW     object\n",
       "dtype: object"
      ]
     },
     "metadata": {},
     "execution_count": 9
    }
   ],
   "metadata": {}
  },
  {
   "cell_type": "code",
   "execution_count": 86,
   "source": [
    "# assigning correct data types to columns  \n",
    "train['RESTAURANT_NAME'] = train['RESTAURANT_NAME'].astype('str')\n",
    "train['RESTAURANT_LOCATION']=train['RESTAURANT_LOCATION'].astype('str')\n",
    "train['RESTAURANT_CATEGORY']=train['RESTAURANT_CATEGORY'].astype('str')\n",
    "train[\"ADDRESS\"]=train[\"ADDRESS\"].astype('str')\n",
    "train['CITY']=train['CITY'].astype('str')\n",
    "train[\"STATE\"]=train[\"STATE\"].astype('str')\n",
    "train[\"ZIP\"]=train[\"ZIP\"].astype('str')\n",
    "train[\"CURRENT_GRADE\"]=train[\"CURRENT_GRADE\"].astype('str')\n",
    "train[\"EMPLOYEE_COUNT\"]=train[\"EMPLOYEE_COUNT\"].astype('int64')\n",
    "train[\"MEDIAN_EMPLOYEE_AGE\"]=train[\"MEDIAN_EMPLOYEE_AGE\"].astype('int64')\n",
    "\n",
    "# convert every / in INSPECTION_TIME to - and convert column to datetime\n",
    "train['INSPECTION_TIME'] = train['INSPECTION_TIME'].astype('str')\n",
    "train['INSPECTION_TIME'] = train['INSPECTION_TIME'].str.replace('/', '-')\n",
    "train['INSPECTION_TIME'] = pd.to_datetime(train['INSPECTION_TIME'],errors='coerce')\n",
    "train['INSPECTION_DEMERITS'] = train['INSPECTION_DEMERITS']\n",
    "\n",
    "train['RECORD_UPDATED'] = train['RECORD_UPDATED'].astype('str')\n",
    "train['RECORD_UPDATED'] = train['RECORD_UPDATED'].str.replace('/', '-')\n",
    "train['RECORD_UPDATED'] = pd.to_datetime(train['RECORD_UPDATED'],errors='coerce')\n",
    "train['RECORD_UPDATED'] = pd.to_datetime(train['RECORD_UPDATED'])\n",
    "\n",
    "\n",
    "\n",
    "\n",
    "\n",
    "\n",
    "\n",
    "\n",
    "\n"
   ],
   "outputs": [],
   "metadata": {}
  },
  {
   "cell_type": "code",
   "execution_count": 89,
   "source": [
    "# plot the distribution First_Violation\n",
    "sns.distplot(train['FIRST_VIOLATION'])\n",
    "\n"
   ],
   "outputs": [
    {
     "output_type": "stream",
     "name": "stderr",
     "text": [
      "/opt/anaconda3/lib/python3.8/site-packages/seaborn/distributions.py:2619: FutureWarning: `distplot` is a deprecated function and will be removed in a future version. Please adapt your code to use either `displot` (a figure-level function with similar flexibility) or `histplot` (an axes-level function for histograms).\n",
      "  warnings.warn(msg, FutureWarning)\n"
     ]
    },
    {
     "output_type": "execute_result",
     "data": {
      "text/plain": [
       "<AxesSubplot:xlabel='FIRST_VIOLATION', ylabel='Density'>"
      ]
     },
     "metadata": {},
     "execution_count": 89
    },
    {
     "output_type": "display_data",
     "data": {
      "image/png": "[encoded data removed]",
      "text/plain": [
       "<Figure size 432x288 with 1 Axes>"
      ]
     },
     "metadata": {
      "needs_background": "light"
     }
    }
   ],
   "metadata": {}
  },
  {
   "cell_type": "code",
   "execution_count": 81,
   "source": [
    "train['INSPECTION_TIME']\n"
   ],
   "outputs": [
    {
     "output_type": "execute_result",
     "data": {
      "text/plain": [
       "0       2013-11-05 16:15:00\n",
       "1       2012-09-21 13:00:00\n",
       "2       2011-09-16 11:50:00\n",
       "3       2011-11-22 11:40:00\n",
       "5       2015-09-01 17:15:00\n",
       "                ...        \n",
       "15668   2010-02-23 16:20:00\n",
       "15669   2011-11-03 11:10:00\n",
       "15670   2013-05-28 12:50:00\n",
       "15671   2012-07-26 08:00:00\n",
       "15672   2012-02-14 15:00:00\n",
       "Name: INSPECTION_TIME, Length: 12083, dtype: datetime64[ns]"
      ]
     },
     "metadata": {},
     "execution_count": 81
    }
   ],
   "metadata": {}
  },
  {
   "cell_type": "code",
   "execution_count": null,
   "source": [],
   "outputs": [],
   "metadata": {}
  }
 ],
 "metadata": {
  "orig_nbformat": 4,
  "language_info": {
   "name": "python",
   "version": "3.8.5",
   "mimetype": "text/x-python",
   "codemirror_mode": {
    "name": "ipython",
    "version": 3
   },
   "pygments_lexer": "ipython3",
   "nbconvert_exporter": "python",
   "file_extension": ".py"
  },
  "kernelspec": {
   "name": "python3",
   "display_name": "Python 3.8.5 64-bit ('base': conda)"
  },
  "interpreter": {
   "hash": "dca0ade3e726a953b501b15e8e990130d2b7799f14cfd9f4271676035ebe5511"
  }
 },
 "nbformat": 4,
 "nbformat_minor": 2
}